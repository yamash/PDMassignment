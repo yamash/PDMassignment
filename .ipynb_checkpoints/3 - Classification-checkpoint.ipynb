{
 "cells": [
  {
   "cell_type": "markdown",
   "metadata": {},
   "source": [
    "# CLASSIFICATION"
   ]
  },
  {
   "cell_type": "markdown",
   "metadata": {},
   "source": [
    "## Import"
   ]
  },
  {
   "cell_type": "code",
   "execution_count": 71,
   "metadata": {
    "collapsed": true
   },
   "outputs": [],
   "source": [
    "import pandas as pd\n",
    "import numpy as np\n",
    "import matplotlib.pyplot as plt\n",
    "%matplotlib inline\n",
    "import seaborn as sns\n",
    "\n",
    "\n",
    "#from sklearn\n",
    "from sklearn.preprocessing import LabelEncoder, Normalizer\n",
    "from sklearn.pipeline import Pipeline\n",
    "from sklearn.naive_bayes import MultinomialNB\n",
    "from sklearn.linear_model import LogisticRegression\n",
    "from sklearn.neighbors import KNeighborsClassifier\n",
    "from sklearn.svm import SVC\n",
    "from sklearn.metrics import confusion_matrix,classification_report, accuracy_score, precision_score, f1_score\n",
    "from sklearn.model_selection import train_test_split\n",
    "from sklearn.model_selection import KFold"
   ]
  },
  {
   "cell_type": "code",
   "execution_count": 72,
   "metadata": {
    "collapsed": false
   },
   "outputs": [],
   "source": [
    "df = pd.read_csv(\"./data/wikiArticles_preprocessed.csv\", index_col='title').drop(['Unnamed: 0','length','pageid'], axis=1)"
   ]
  },
  {
   "cell_type": "code",
   "execution_count": 73,
   "metadata": {
    "collapsed": false
   },
   "outputs": [],
   "source": [
    "label_encoder = LabelEncoder()\n",
    "label_encoder = label_encoder.fit(df.category)\n",
    "df.category = label_encoder.transform(df.category) #softeng -> 0, sports -> 1"
   ]
  },
  {
   "cell_type": "code",
   "execution_count": 74,
   "metadata": {
    "collapsed": false
   },
   "outputs": [
    {
     "data": {
      "text/html": [
       "<div>\n",
       "<style>\n",
       "    .dataframe thead tr:only-child th {\n",
       "        text-align: right;\n",
       "    }\n",
       "\n",
       "    .dataframe thead th {\n",
       "        text-align: left;\n",
       "    }\n",
       "\n",
       "    .dataframe tbody tr th {\n",
       "        vertical-align: top;\n",
       "    }\n",
       "</style>\n",
       "<table border=\"1\" class=\"dataframe\">\n",
       "  <thead>\n",
       "    <tr style=\"text-align: right;\">\n",
       "      <th></th>\n",
       "      <th>content</th>\n",
       "      <th>category</th>\n",
       "    </tr>\n",
       "    <tr>\n",
       "      <th>title</th>\n",
       "      <th></th>\n",
       "      <th></th>\n",
       "    </tr>\n",
       "  </thead>\n",
       "  <tbody>\n",
       "    <tr>\n",
       "      <th>acceptance testing</th>\n",
       "      <td>engineering various subdisciplines acceptance ...</td>\n",
       "      <td>0</td>\n",
       "    </tr>\n",
       "    <tr>\n",
       "      <th>sports before 1001</th>\n",
       "      <td>article present chronology sport development e...</td>\n",
       "      <td>1</td>\n",
       "    </tr>\n",
       "  </tbody>\n",
       "</table>\n",
       "</div>"
      ],
      "text/plain": [
       "                                                              content  \\\n",
       "title                                                                   \n",
       "acceptance testing  engineering various subdisciplines acceptance ...   \n",
       "sports before 1001  article present chronology sport development e...   \n",
       "\n",
       "                    category  \n",
       "title                         \n",
       "acceptance testing         0  \n",
       "sports before 1001         1  "
      ]
     },
     "execution_count": 74,
     "metadata": {},
     "output_type": "execute_result"
    }
   ],
   "source": [
    "df.iloc[[0,-1]] #first and last element"
   ]
  },
  {
   "cell_type": "markdown",
   "metadata": {},
   "source": [
    "## Classification using TFIDF"
   ]
  },
  {
   "cell_type": "markdown",
   "metadata": {},
   "source": [
    "Let's start to build our classifiers using the TFIDF matrix."
   ]
  },
  {
   "cell_type": "code",
   "execution_count": 75,
   "metadata": {
    "collapsed": false
   },
   "outputs": [],
   "source": [
    "X_tfidf = np.array(np.load(\"./data/tfidf_mat.npy\")).astype(float)"
   ]
  },
  {
   "cell_type": "code",
   "execution_count": 76,
   "metadata": {
    "collapsed": false
   },
   "outputs": [],
   "source": [
    "y = df.category.values"
   ]
  },
  {
   "cell_type": "code",
   "execution_count": 77,
   "metadata": {
    "collapsed": true
   },
   "outputs": [],
   "source": [
    "X_train, X_test, y_train, y_test = train_test_split(X_tfidf, y, test_size=0.1, random_state=11)"
   ]
  },
  {
   "cell_type": "code",
   "execution_count": 78,
   "metadata": {
    "collapsed": false
   },
   "outputs": [
    {
     "data": {
      "text/plain": [
       "1    100\n",
       "0    100\n",
       "Name: 0, dtype: int64"
      ]
     },
     "execution_count": 78,
     "metadata": {},
     "output_type": "execute_result"
    }
   ],
   "source": [
    "pd.DataFrame(y_test)[0].value_counts()"
   ]
  },
  {
   "cell_type": "markdown",
   "metadata": {},
   "source": [
    "We have now 100 articles of each category in the test set and 900 articles in the train set."
   ]
  },
  {
   "cell_type": "markdown",
   "metadata": {},
   "source": [
    "### Standardization"
   ]
  },
  {
   "cell_type": "code",
   "execution_count": 79,
   "metadata": {
    "collapsed": false
   },
   "outputs": [],
   "source": [
    "X_train_std = (X_train-X_train.mean()) / X_train.std()\n",
    "X_test_std = (X_test-X_train.mean()) / X_train.std()"
   ]
  },
  {
   "cell_type": "markdown",
   "metadata": {},
   "source": [
    "### Score metrics\n",
    "Since our dataset is totally balanced we could use simple score metrics such as `accuracy` but for our classifiers let's use the `f1-score`  from `sklearn.metrics` which is the harmonic mean of precision and recall."
   ]
  },
  {
   "cell_type": "markdown",
   "metadata": {},
   "source": [
    "## Naive Bayes"
   ]
  },
  {
   "cell_type": "markdown",
   "metadata": {},
   "source": [
    "To get a baseline for our task, let's start with a very well known classifier for text classification: Naïve Bayes classifier."
   ]
  },
  {
   "cell_type": "code",
   "execution_count": 12,
   "metadata": {
    "collapsed": false
   },
   "outputs": [
    {
     "data": {
      "text/plain": [
       "MultinomialNB(alpha=1.0, class_prior=None, fit_prior=True)"
      ]
     },
     "execution_count": 12,
     "metadata": {},
     "output_type": "execute_result"
    }
   ],
   "source": [
    "nb_clf = MultinomialNB()\n",
    "nb_clf.fit(X_train,y_train)"
   ]
  },
  {
   "cell_type": "code",
   "execution_count": 48,
   "metadata": {
    "collapsed": false
   },
   "outputs": [
    {
     "name": "stdout",
     "output_type": "stream",
     "text": [
      "Confusion matrix : \n",
      " [[97  3]\n",
      " [ 1 99]]\n",
      "F1 score :  0.980198019802\n"
     ]
    }
   ],
   "source": [
    "pred_nb = nb_clf.predict(X_test)\n",
    "print(\"Confusion matrix : \\n\", confusion_matrix(y_test,pred_nb))\n",
    "print(\"F1-score : \", f1_score(y_test,pred_nb))\n"
   ]
  },
  {
   "cell_type": "markdown",
   "metadata": {},
   "source": [
    "We can see that the performance is already excellent. From our pca plot we could indeed except these kind of result."
   ]
  },
  {
   "cell_type": "markdown",
   "metadata": {},
   "source": [
    "## Logistic Regression"
   ]
  },
  {
   "cell_type": "markdown",
   "metadata": {},
   "source": [
    "Let's try now with a logistic regression which is more suited for larger sample size dataset, but it is nice to see its performance. "
   ]
  },
  {
   "cell_type": "code",
   "execution_count": 35,
   "metadata": {
    "collapsed": false
   },
   "outputs": [
    {
     "data": {
      "text/plain": [
       "LogisticRegression(C=1, class_weight='balanced', dual=False,\n",
       "          fit_intercept=True, intercept_scaling=1, max_iter=200,\n",
       "          multi_class='ovr', n_jobs=1, penalty='l2', random_state=None,\n",
       "          solver='liblinear', tol=0.0001, verbose=0, warm_start=False)"
      ]
     },
     "execution_count": 35,
     "metadata": {},
     "output_type": "execute_result"
    }
   ],
   "source": [
    "log_clf = LogisticRegression(C=1,max_iter = 200, class_weight='balanced')\n",
    "log_clf.fit(X_train,y_train)"
   ]
  },
  {
   "cell_type": "code",
   "execution_count": 47,
   "metadata": {
    "collapsed": false
   },
   "outputs": [
    {
     "name": "stdout",
     "output_type": "stream",
     "text": [
      "Confusion matrix : \n",
      " [[97  3]\n",
      " [ 1 99]]\n",
      "F1 score :  0.980198019802\n"
     ]
    }
   ],
   "source": [
    "pred_log = log_clf.predict(X_test)\n",
    "print(\"Confusion matrix : \\n\", confusion_matrix(y_test,pred_nb))\n",
    "print(\"F1-score : \", f1_score(y_test,pred_nb))"
   ]
  },
  {
   "cell_type": "markdown",
   "metadata": {},
   "source": [
    "### Cross Validation"
   ]
  },
  {
   "cell_type": "markdown",
   "metadata": {},
   "source": [
    "The result could seem to be too good to be true, so let's check if we are overfitting and verify our performance."
   ]
  },
  {
   "cell_type": "code",
   "execution_count": 50,
   "metadata": {
    "collapsed": true
   },
   "outputs": [],
   "source": [
    "k_fold = KFold(n_splits=10) \n",
    "#to keep the proportion trainset-testset, we choose a 10-folds CV : training on 9 folds and validate on 1 fold."
   ]
  },
  {
   "cell_type": "code",
   "execution_count": 51,
   "metadata": {
    "collapsed": true
   },
   "outputs": [],
   "source": [
    "logreg_cv = [log_clf.fit(X_train[train], y_train[train]) for train, test in k_fold.split(X_train)]"
   ]
  },
  {
   "cell_type": "code",
   "execution_count": 65,
   "metadata": {
    "collapsed": false
   },
   "outputs": [
    {
     "name": "stdout",
     "output_type": "stream",
     "text": [
      "mean f1-score: 0.980392156863\n",
      "variance score: 1.23259516441e-32\n"
     ]
    }
   ],
   "source": [
    "lst_f1 =[]\n",
    "for idx, model in enumerate(logreg_cv):\n",
    "    pred = model.predict(X_test)\n",
    "    lst_f1.append(f1_score(y_test, pred))\n",
    "\n",
    "print('mean f1-score: ' + str(np.mean(lst_f1)))\n",
    "print('variance score: ' + str(np.var(lst_f1)))\n"
   ]
  },
  {
   "cell_type": "markdown",
   "metadata": {},
   "source": [
    "We can see that our classifier looks very correct and stable as well. "
   ]
  },
  {
   "cell_type": "markdown",
   "metadata": {},
   "source": [
    "#### With standardized dataset"
   ]
  },
  {
   "cell_type": "code",
   "execution_count": 64,
   "metadata": {
    "collapsed": true
   },
   "outputs": [],
   "source": [
    "log_clf_std = LogisticRegression(C=1,max_iter = 200, class_weight='balanced')\n",
    "logreg_cv_std = [log_clf_std.fit(X_train_std[train], y_train[train]) for train, test in k_fold.split(X_train_std)]"
   ]
  },
  {
   "cell_type": "code",
   "execution_count": 66,
   "metadata": {
    "collapsed": false
   },
   "outputs": [
    {
     "name": "stdout",
     "output_type": "stream",
     "text": [
      "mean f1-score: 0.985221674877\n",
      "variance score: 0.0\n"
     ]
    }
   ],
   "source": [
    "lst_f1_std =[]\n",
    "for idx, model in enumerate(logreg_cv_std):\n",
    "    pred_std = model.predict(X_test_std)\n",
    "    lst_f1_std.append(f1_score(y_test, pred_std))\n",
    "\n",
    "print('mean f1-score: ' + str(np.mean(lst_f1_std)))\n",
    "print('variance score: ' + str(np.var(lst_f1_std)))\n"
   ]
  },
  {
   "cell_type": "markdown",
   "metadata": {},
   "source": [
    "With the LogReg, the standardized features don't change much in the result."
   ]
  },
  {
   "cell_type": "markdown",
   "metadata": {},
   "source": [
    "## Support Vector Classification"
   ]
  },
  {
   "cell_type": "code",
   "execution_count": 67,
   "metadata": {
    "collapsed": false
   },
   "outputs": [
    {
     "data": {
      "text/plain": [
       "SVC(C=1.0, cache_size=200, class_weight=None, coef0=0.0,\n",
       "  decision_function_shape=None, degree=3, gamma='auto', kernel='rbf',\n",
       "  max_iter=-1, probability=False, random_state=None, shrinking=True,\n",
       "  tol=0.001, verbose=False)"
      ]
     },
     "execution_count": 67,
     "metadata": {},
     "output_type": "execute_result"
    }
   ],
   "source": [
    "svc_clf = SVC()\n",
    "svc_clf.fit(X_train,y_train)"
   ]
  },
  {
   "cell_type": "code",
   "execution_count": 68,
   "metadata": {
    "collapsed": false
   },
   "outputs": [
    {
     "name": "stdout",
     "output_type": "stream",
     "text": [
      "Confusion matrix : \n",
      " [[78 22]\n",
      " [ 2 98]]\n",
      "F1-score :  0.890909090909\n"
     ]
    }
   ],
   "source": [
    "pred_svc = svc_clf.predict(X_test)\n",
    "print(\"Confusion matrix : \\n\", confusion_matrix(y_test,pred_svc))\n",
    "print(\"F1-score : \", f1_score(y_test,pred_svc))"
   ]
  },
  {
   "cell_type": "markdown",
   "metadata": {},
   "source": [
    "#### With Standardized features"
   ]
  },
  {
   "cell_type": "code",
   "execution_count": 69,
   "metadata": {
    "collapsed": false
   },
   "outputs": [
    {
     "data": {
      "text/plain": [
       "SVC(C=1.0, cache_size=200, class_weight=None, coef0=0.0,\n",
       "  decision_function_shape=None, degree=3, gamma='auto', kernel='rbf',\n",
       "  max_iter=-1, probability=False, random_state=None, shrinking=True,\n",
       "  tol=0.001, verbose=False)"
      ]
     },
     "execution_count": 69,
     "metadata": {},
     "output_type": "execute_result"
    }
   ],
   "source": [
    "svc_clf_std = SVC()\n",
    "svc_clf_std.fit(X_train_std,y_train)"
   ]
  },
  {
   "cell_type": "code",
   "execution_count": 70,
   "metadata": {
    "collapsed": false
   },
   "outputs": [
    {
     "name": "stdout",
     "output_type": "stream",
     "text": [
      "Confusion matrix : \n",
      " [[ 96   4]\n",
      " [  0 100]]\n",
      "F1-score :  0.980392156863\n"
     ]
    }
   ],
   "source": [
    "pred_svc_std = svc_clf_std.predict(X_test_std)\n",
    "print(\"Confusion matrix : \\n\", confusion_matrix(y_test,pred_svc_std))\n",
    "print(\"F1-score : \", f1_score(y_test,pred_svc_std))"
   ]
  },
  {
   "cell_type": "markdown",
   "metadata": {},
   "source": [
    "Here we can see that the standardized features improve the performance."
   ]
  },
  {
   "cell_type": "markdown",
   "metadata": {},
   "source": [
    "### Grid search for best params"
   ]
  },
  {
   "cell_type": "code",
   "execution_count": 90,
   "metadata": {
    "collapsed": true
   },
   "outputs": [],
   "source": [
    "from sklearn.model_selection import GridSearchCV\n",
    "param_grid = {'C': [0.1,1, 10, 100], 'gamma': [1,0.1,0.01,0.001]}"
   ]
  },
  {
   "cell_type": "code",
   "execution_count": 91,
   "metadata": {
    "collapsed": false,
    "scrolled": true
   },
   "outputs": [
    {
     "name": "stdout",
     "output_type": "stream",
     "text": [
      "Fitting 3 folds for each of 16 candidates, totalling 48 fits\n",
      "[CV] C=0.1, gamma=1 ..................................................\n",
      "[CV] ................................... C=0.1, gamma=1, total= 2.3min\n",
      "[CV] C=0.1, gamma=1 ..................................................\n"
     ]
    },
    {
     "name": "stderr",
     "output_type": "stream",
     "text": [
      "[Parallel(n_jobs=1)]: Done   1 out of   1 | elapsed:  3.8min remaining:    0.0s\n"
     ]
    },
    {
     "name": "stdout",
     "output_type": "stream",
     "text": [
      "[CV] ................................... C=0.1, gamma=1, total= 2.3min\n",
      "[CV] C=0.1, gamma=1 ..................................................\n",
      "[CV] ................................... C=0.1, gamma=1, total= 2.3min\n",
      "[CV] C=0.1, gamma=0.1 ................................................\n",
      "[CV] ................................. C=0.1, gamma=0.1, total= 2.3min\n",
      "[CV] C=0.1, gamma=0.1 ................................................\n",
      "[CV] ................................. C=0.1, gamma=0.1, total= 2.3min\n",
      "[CV] C=0.1, gamma=0.1 ................................................\n",
      "[CV] ................................. C=0.1, gamma=0.1, total= 2.3min\n",
      "[CV] C=0.1, gamma=0.01 ...............................................\n",
      "[CV] ................................ C=0.1, gamma=0.01, total= 2.3min\n",
      "[CV] C=0.1, gamma=0.01 ...............................................\n",
      "[CV] ................................ C=0.1, gamma=0.01, total= 2.3min\n",
      "[CV] C=0.1, gamma=0.01 ...............................................\n",
      "[CV] ................................ C=0.1, gamma=0.01, total= 2.3min\n",
      "[CV] C=0.1, gamma=0.001 ..............................................\n",
      "[CV] ............................... C=0.1, gamma=0.001, total= 2.3min\n",
      "[CV] C=0.1, gamma=0.001 ..............................................\n",
      "[CV] ............................... C=0.1, gamma=0.001, total= 2.4min\n",
      "[CV] C=0.1, gamma=0.001 ..............................................\n",
      "[CV] ............................... C=0.1, gamma=0.001, total= 2.3min\n",
      "[CV] C=1, gamma=1 ....................................................\n",
      "[CV] ..................................... C=1, gamma=1, total= 2.5min\n",
      "[CV] C=1, gamma=1 ....................................................\n",
      "[CV] ..................................... C=1, gamma=1, total= 2.5min\n",
      "[CV] C=1, gamma=1 ....................................................\n",
      "[CV] ..................................... C=1, gamma=1, total= 2.9min\n",
      "[CV] C=1, gamma=0.1 ..................................................\n",
      "[CV] ................................... C=1, gamma=0.1, total= 3.2min\n",
      "[CV] C=1, gamma=0.1 ..................................................\n",
      "[CV] ................................... C=1, gamma=0.1, total= 3.5min\n",
      "[CV] C=1, gamma=0.1 ..................................................\n",
      "[CV] ................................... C=1, gamma=0.1, total= 3.1min\n",
      "[CV] C=1, gamma=0.01 .................................................\n",
      "[CV] .................................. C=1, gamma=0.01, total= 2.7min\n",
      "[CV] C=1, gamma=0.01 .................................................\n",
      "[CV] .................................. C=1, gamma=0.01, total= 2.8min\n",
      "[CV] C=1, gamma=0.01 .................................................\n",
      "[CV] .................................. C=1, gamma=0.01, total= 3.2min\n",
      "[CV] C=1, gamma=0.001 ................................................\n",
      "[CV] ................................. C=1, gamma=0.001, total= 2.9min\n",
      "[CV] C=1, gamma=0.001 ................................................\n",
      "[CV] ................................. C=1, gamma=0.001, total= 3.0min\n",
      "[CV] C=1, gamma=0.001 ................................................\n",
      "[CV] ................................. C=1, gamma=0.001, total= 2.6min\n",
      "[CV] C=10, gamma=1 ...................................................\n",
      "[CV] .................................... C=10, gamma=1, total= 3.1min\n",
      "[CV] C=10, gamma=1 ...................................................\n",
      "[CV] .................................... C=10, gamma=1, total= 2.8min\n",
      "[CV] C=10, gamma=1 ...................................................\n",
      "[CV] .................................... C=10, gamma=1, total= 3.0min\n",
      "[CV] C=10, gamma=0.1 .................................................\n",
      "[CV] .................................. C=10, gamma=0.1, total= 2.8min\n",
      "[CV] C=10, gamma=0.1 .................................................\n",
      "[CV] .................................. C=10, gamma=0.1, total= 3.0min\n",
      "[CV] C=10, gamma=0.1 .................................................\n",
      "[CV] .................................. C=10, gamma=0.1, total= 3.2min\n",
      "[CV] C=10, gamma=0.01 ................................................\n",
      "[CV] ................................. C=10, gamma=0.01, total= 3.2min\n",
      "[CV] C=10, gamma=0.01 ................................................\n",
      "[CV] ................................. C=10, gamma=0.01, total= 3.3min\n",
      "[CV] C=10, gamma=0.01 ................................................\n",
      "[CV] ................................. C=10, gamma=0.01, total= 2.6min\n",
      "[CV] C=10, gamma=0.001 ...............................................\n",
      "[CV] ................................ C=10, gamma=0.001, total= 2.6min\n",
      "[CV] C=10, gamma=0.001 ...............................................\n",
      "[CV] ................................ C=10, gamma=0.001, total= 3.0min\n",
      "[CV] C=10, gamma=0.001 ...............................................\n",
      "[CV] ................................ C=10, gamma=0.001, total= 2.7min\n",
      "[CV] C=100, gamma=1 ..................................................\n",
      "[CV] ................................... C=100, gamma=1, total= 3.0min\n",
      "[CV] C=100, gamma=1 ..................................................\n",
      "[CV] ................................... C=100, gamma=1, total= 2.5min\n",
      "[CV] C=100, gamma=1 ..................................................\n",
      "[CV] ................................... C=100, gamma=1, total= 2.5min\n",
      "[CV] C=100, gamma=0.1 ................................................\n",
      "[CV] ................................. C=100, gamma=0.1, total= 2.5min\n",
      "[CV] C=100, gamma=0.1 ................................................\n",
      "[CV] ................................. C=100, gamma=0.1, total= 2.6min\n",
      "[CV] C=100, gamma=0.1 ................................................\n",
      "[CV] ................................. C=100, gamma=0.1, total= 2.6min\n",
      "[CV] C=100, gamma=0.01 ...............................................\n",
      "[CV] ................................ C=100, gamma=0.01, total= 2.8min\n",
      "[CV] C=100, gamma=0.01 ...............................................\n",
      "[CV] ................................ C=100, gamma=0.01, total= 3.4min\n",
      "[CV] C=100, gamma=0.01 ...............................................\n",
      "[CV] ................................ C=100, gamma=0.01, total= 2.9min\n",
      "[CV] C=100, gamma=0.001 ..............................................\n",
      "[CV] ............................... C=100, gamma=0.001, total= 2.8min\n",
      "[CV] C=100, gamma=0.001 ..............................................\n",
      "[CV] ............................... C=100, gamma=0.001, total= 2.8min\n",
      "[CV] C=100, gamma=0.001 ..............................................\n",
      "[CV] ............................... C=100, gamma=0.001, total= 2.7min\n"
     ]
    },
    {
     "name": "stderr",
     "output_type": "stream",
     "text": [
      "[Parallel(n_jobs=1)]: Done  48 out of  48 | elapsed: 218.9min finished\n"
     ]
    },
    {
     "data": {
      "text/plain": [
       "GridSearchCV(cv=None, error_score='raise',\n",
       "       estimator=SVC(C=1.0, cache_size=200, class_weight=None, coef0=0.0,\n",
       "  decision_function_shape=None, degree=3, gamma='auto', kernel='rbf',\n",
       "  max_iter=-1, probability=False, random_state=None, shrinking=True,\n",
       "  tol=0.001, verbose=False),\n",
       "       fit_params={}, iid=True, n_jobs=1,\n",
       "       param_grid={'C': [0.1, 1, 10, 100], 'gamma': [1, 0.1, 0.01, 0.001]},\n",
       "       pre_dispatch='2*n_jobs', refit=True, return_train_score=True,\n",
       "       scoring=None, verbose=2)"
      ]
     },
     "execution_count": 91,
     "metadata": {},
     "output_type": "execute_result"
    }
   ],
   "source": [
    "grid = GridSearchCV(SVC(),param_grid, refit=True, verbose=2) \n",
    "grid.fit(X_train_std,y_train)"
   ]
  },
  {
   "cell_type": "code",
   "execution_count": 92,
   "metadata": {
    "collapsed": false
   },
   "outputs": [
    {
     "data": {
      "text/plain": [
       "{'C': 0.1, 'gamma': 0.001}"
      ]
     },
     "execution_count": 92,
     "metadata": {},
     "output_type": "execute_result"
    }
   ],
   "source": [
    "grid.best_params_"
   ]
  },
  {
   "cell_type": "markdown",
   "metadata": {},
   "source": [
    "### Classification result using the `best_params_`"
   ]
  },
  {
   "cell_type": "code",
   "execution_count": 93,
   "metadata": {
    "collapsed": false
   },
   "outputs": [
    {
     "name": "stdout",
     "output_type": "stream",
     "text": [
      "Confusion matrix : \n",
      " [[97  3]\n",
      " [ 7 93]]\n",
      "F1-score :  0.948979591837\n"
     ]
    }
   ],
   "source": [
    "pred_grid = grid.predict(X_test_std)\n",
    "print(\"Confusion matrix : \\n\", confusion_matrix(y_test,pred_grid))\n",
    "print(\"F1-score : \", f1_score(y_test,pred_grid))"
   ]
  },
  {
   "cell_type": "markdown",
   "metadata": {},
   "source": [
    "score moin bien mais cv montre que pas overfit"
   ]
  },
  {
   "cell_type": "markdown",
   "metadata": {},
   "source": [
    "## KNN Classification"
   ]
  },
  {
   "cell_type": "code",
   "execution_count": 85,
   "metadata": {
    "collapsed": false
   },
   "outputs": [
    {
     "data": {
      "text/plain": [
       "KNeighborsClassifier(algorithm='auto', leaf_size=30, metric='minkowski',\n",
       "           metric_params=None, n_jobs=1, n_neighbors=3, p=2,\n",
       "           weights='uniform')"
      ]
     },
     "execution_count": 85,
     "metadata": {},
     "output_type": "execute_result"
    }
   ],
   "source": [
    "knn = KNeighborsClassifier(n_neighbors=3)\n",
    "knn.fit(X_train,y_train)"
   ]
  },
  {
   "cell_type": "code",
   "execution_count": 86,
   "metadata": {
    "collapsed": false
   },
   "outputs": [
    {
     "name": "stdout",
     "output_type": "stream",
     "text": [
      "Confusion matrix : \n",
      " [[97  3]\n",
      " [ 5 95]]\n",
      "F1-score :  0.959595959596\n"
     ]
    }
   ],
   "source": [
    "pred_knn = knn.predict(X_test)\n",
    "print(\"Confusion matrix : \\n\", confusion_matrix(y_test,pred_knn))\n",
    "print(\"F1-score : \", f1_score(y_test,pred_knn))"
   ]
  },
  {
   "cell_type": "markdown",
   "metadata": {},
   "source": [
    "#### With Standardized features"
   ]
  },
  {
   "cell_type": "code",
   "execution_count": 83,
   "metadata": {
    "collapsed": false
   },
   "outputs": [
    {
     "data": {
      "text/plain": [
       "KNeighborsClassifier(algorithm='auto', leaf_size=30, metric='minkowski',\n",
       "           metric_params=None, n_jobs=1, n_neighbors=3, p=2,\n",
       "           weights='uniform')"
      ]
     },
     "execution_count": 83,
     "metadata": {},
     "output_type": "execute_result"
    }
   ],
   "source": [
    "knn_std = KNeighborsClassifier(n_neighbors=3)\n",
    "knn_std.fit(X_train_std,y_train)"
   ]
  },
  {
   "cell_type": "code",
   "execution_count": 84,
   "metadata": {
    "collapsed": false
   },
   "outputs": [
    {
     "name": "stdout",
     "output_type": "stream",
     "text": [
      "Confusion matrix : \n",
      " [[97  3]\n",
      " [ 5 95]]\n",
      "F1-score :  0.959595959596\n"
     ]
    }
   ],
   "source": [
    "pred_knn_std = knn_std.predict(X_test_std)\n",
    "print(\"Confusion matrix : \\n\", confusion_matrix(y_test,pred_knn_std))\n",
    "print(\"F1-score : \", f1_score(y_test,pred_knn_std))"
   ]
  },
  {
   "cell_type": "markdown",
   "metadata": {},
   "source": [
    "Here again the standardize features don't influence the performance a lot. For algortihms that use distance measurements, normalization or scaling could be a better solution. "
   ]
  },
  {
   "cell_type": "markdown",
   "metadata": {},
   "source": [
    "#### With Normalized features"
   ]
  },
  {
   "cell_type": "code",
   "execution_count": 12,
   "metadata": {
    "collapsed": true
   },
   "outputs": [],
   "source": [
    "normalizer = Normalizer().fit(X_train)"
   ]
  },
  {
   "cell_type": "code",
   "execution_count": 13,
   "metadata": {
    "collapsed": true
   },
   "outputs": [],
   "source": [
    "X_train_nrm = normalizer.transform(X_train)\n",
    "X_test_nrm = normalizer.transform(X_test)"
   ]
  },
  {
   "cell_type": "code",
   "execution_count": 82,
   "metadata": {
    "collapsed": false
   },
   "outputs": [
    {
     "name": "stdout",
     "output_type": "stream",
     "text": [
      "Confusion matrix : \n",
      " [[97  3]\n",
      " [ 5 95]]\n",
      "F1-score :  0.959595959596\n"
     ]
    }
   ],
   "source": [
    "knn_nrm = KNeighborsClassifier(n_neighbors=3)\n",
    "knn_nrm.fit(X_train_nrm,y_train)\n",
    "pred_knn_nrm = knn_nrm.predict(X_test_nrm)\n",
    "print(\"Confusion matrix : \\n\", confusion_matrix(y_test,pred_knn_nrm))\n",
    "print(\"F1-score : \", f1_score(y_test,pred_knn_nrm))"
   ]
  },
  {
   "cell_type": "markdown",
   "metadata": {},
   "source": [
    "We don't see any difference and this may be due by the fact that the simplicity of our task makes difficult to realize the implication of standardization or normalization. "
   ]
  },
  {
   "cell_type": "markdown",
   "metadata": {},
   "source": [
    "### Choosing K Value"
   ]
  },
  {
   "cell_type": "code",
   "execution_count": 87,
   "metadata": {
    "collapsed": true
   },
   "outputs": [],
   "source": [
    "error_rate = []\n",
    "\n",
    "for i in range(1,40):\n",
    "    \n",
    "    knn_nrm = KNeighborsClassifier(n_neighbors=i)\n",
    "    knn_nrm.fit(X_train_nrm,y_train)\n",
    "    pred_i = knn_nrm.predict(X_test_nrm)\n",
    "    error_rate.append(np.mean(pred_i != y_test))"
   ]
  },
  {
   "cell_type": "code",
   "execution_count": 88,
   "metadata": {
    "collapsed": false
   },
   "outputs": [
    {
     "data": {
      "text/plain": [
       "<matplotlib.text.Text at 0x193f82048>"
      ]
     },
     "execution_count": 88,
     "metadata": {},
     "output_type": "execute_result"
    },
    {
     "data": {
      "image/png": "[encoded data removed]",
      "text/plain": [
       "<matplotlib.figure.Figure at 0x193f7d828>"
      ]
     },
     "metadata": {},
     "output_type": "display_data"
    }
   ],
   "source": [
    "plt.figure(figsize=(10,6))\n",
    "plt.plot(range(1,40),error_rate,color='blue', linestyle='dashed', marker='o',\n",
    "         markerfacecolor='red', markersize=10)\n",
    "plt.title('Error Rate vs. K Value')\n",
    "plt.xlabel('K')\n",
    "plt.ylabel('Error Rate')"
   ]
  },
  {
   "cell_type": "markdown",
   "metadata": {},
   "source": [
    "### Classification result using K = 15"
   ]
  },
  {
   "cell_type": "code",
   "execution_count": 89,
   "metadata": {
    "collapsed": false
   },
   "outputs": [
    {
     "name": "stdout",
     "output_type": "stream",
     "text": [
      "Confusion matrix : \n",
      " [[97  3]\n",
      " [ 4 96]]\n",
      "F1-score :  0.964824120603\n"
     ]
    }
   ],
   "source": [
    "knn_nrm = KNeighborsClassifier(n_neighbors=15)\n",
    "knn_nrm.fit(X_train_nrm,y_train)\n",
    "pred_knn_nrm = knn_nrm.predict(X_test_nrm)\n",
    "print(\"Confusion matrix : \\n\", confusion_matrix(y_test,pred_knn_nrm))\n",
    "print(\"F1-score : \", f1_score(y_test,pred_knn_nrm))"
   ]
  },
  {
   "cell_type": "markdown",
   "metadata": {},
   "source": [
    "### Summary\n",
    "Let's make a summary of our 4 classifiers with results obtained from 10 fold CV. "
   ]
  },
  {
   "cell_type": "code",
   "execution_count": 81,
   "metadata": {
    "collapsed": false
   },
   "outputs": [
    {
     "name": "stdout",
     "output_type": "stream",
     "text": [
      "Initialize\n",
      "fitting nb\n",
      "fitting lg\n",
      "fitting knn\n",
      "fitting svc\n",
      "CV #0\n",
      "CV #1\n",
      "CV #2\n",
      "CV #3\n",
      "CV #4\n",
      "CV #5\n",
      "CV #6\n",
      "CV #7\n",
      "CV #8\n",
      "CV #9\n"
     ]
    }
   ],
   "source": [
    "k_fold = KFold(n_splits=10) \n",
    "lst_lg =[]\n",
    "lst_nb =[]\n",
    "lst_svc =[]\n",
    "lst_knn =[]\n",
    "\n",
    "print('Initialize')\n",
    "# Initalize clafssifiers\n",
    "lg_clf = LogisticRegression(C=1,max_iter = 200, class_weight='balanced')\n",
    "knn_clf = KNeighborsClassifier(n_neighbors=15)\n",
    "svc_clf = SVC()\n",
    "nb_clf = MultinomialNB()\n",
    "\n",
    "# Split the dataset\n",
    "print('fitting nb')\n",
    "nb_cv = [nb_clf.fit(X_train[train], y_train[train]) for train, test in k_fold.split(X_train)]\n",
    "print('fitting lg')\n",
    "lg_cv = [lg_clf.fit(X_train_std[train], y_train[train]) for train, test in k_fold.split(X_train_std)]\n",
    "print('fitting knn')\n",
    "knn_cv = [knn_clf.fit(X_train_nrm[train], y_train[train]) for train, test in k_fold.split(X_train_nrm)]\n",
    "print('fitting svc')\n",
    "svc_cv = [svc_clf.fit(X_train_std[train], y_train[train]) for train, test in k_fold.split(X_train_std)]\n",
    "\n",
    "for i in range(0,10):\n",
    "    print(\"CV #\"+str(i))\n",
    "    pred_nb = nb_cv[i].predict(X_test)\n",
    "    pred_lg = lg_cv[i].predict(X_test_std)\n",
    "    pred_svc = svc_cv[i].predict(X_test_std)\n",
    "    pred_knn = knn_cv[i].predict(X_test_nrm)\n",
    "\n",
    "    lst_lg.append(f1_score(y_test, pred_lg))\n",
    "    lst_nb.append(f1_score(y_test, pred_nb))\n",
    "    lst_knn.append(f1_score(y_test, pred_knn))\n",
    "    lst_svc.append(f1_score(y_test, pred_svc))"
   ]
  },
  {
   "cell_type": "code",
   "execution_count": 82,
   "metadata": {
    "collapsed": false
   },
   "outputs": [],
   "source": [
    "df_clf = pd.DataFrame(\n",
    "    {'NB score': lst_nb,\n",
    "     'Log Reg score': lst_lg,\n",
    "     'SVC score': lst_svc,\n",
    "     'KNN score' : lst_knn\n",
    "    })"
   ]
  },
  {
   "cell_type": "code",
   "execution_count": 83,
   "metadata": {
    "collapsed": false
   },
   "outputs": [
    {
     "data": {
      "image/png": "[encoded data removed]",
      "text/plain": [
       "<matplotlib.figure.Figure at 0x1ceecf6d8>"
      ]
     },
     "metadata": {},
     "output_type": "display_data"
    }
   ],
   "source": [
    "plt.figure(figsize=(10,2))\n",
    "df_clf.boxplot()\n",
    "plt.title('Classifiers Accuracy Comparaison')\n",
    "plt.ylabel('accuracy')\n",
    "plt.xlabel('classifiers')\n",
    "plt.show()"
   ]
  },
  {
   "cell_type": "markdown",
   "metadata": {
    "collapsed": false
   },
   "source": [
    "We can see that our models are very stable and Logistic Regression classifier gives the best result. "
   ]
  },
  {
   "cell_type": "markdown",
   "metadata": {},
   "source": [
    "### Conclusion\n",
    "What we can conclude seeing the result from above models is that basically Category: Sports is easier to classify than Category: Software Engineering and the performance of our classifiers is very similiar with a small advantage of LogReg. "
   ]
  },
  {
   "cell_type": "markdown",
   "metadata": {},
   "source": [
    "# Classification using LDA"
   ]
  },
  {
   "cell_type": "code",
   "execution_count": 15,
   "metadata": {
    "collapsed": true
   },
   "outputs": [],
   "source": [
    "y = df.category.values\n",
    "\n",
    "def lda_clf(model,y):\n",
    "    if model == 'logreg':\n",
    "        clf = LogisticRegression()\n",
    "    if model == 'svc':\n",
    "        clf = SVC()    \n",
    "    perf = []\n",
    "    for i in [2,3,4,5,6,7,8,10,12,15,17,20,25,30]:\n",
    "        doctopic = np.array(np.load(\"./data/doc_topic_dist_{nb}.npy\".format(nb=i))).astype(float)\n",
    "        X_train, X_test, y_train, y_test = train_test_split(doctopic, y, test_size=0.1, random_state=11)\n",
    "        clf.fit(X_train,y_train)\n",
    "        pred = clf.predict(X_test)\n",
    "        perf.append(f1_score(y_test,pred))\n",
    "    return perf"
   ]
  },
  {
   "cell_type": "markdown",
   "metadata": {},
   "source": [
    "## Log Reg"
   ]
  },
  {
   "cell_type": "code",
   "execution_count": 101,
   "metadata": {
    "collapsed": true
   },
   "outputs": [],
   "source": [
    "perf_logreg = lda_clf('logreg',y)"
   ]
  },
  {
   "cell_type": "code",
   "execution_count": 109,
   "metadata": {
    "collapsed": false
   },
   "outputs": [
    {
     "data": {
      "text/plain": [
       "<matplotlib.text.Text at 0x110cbfdd8>"
      ]
     },
     "execution_count": 109,
     "metadata": {},
     "output_type": "execute_result"
    },
    {
     "data": {
      "image/png": "[encoded data removed]",
      "text/plain": [
       "<matplotlib.figure.Figure at 0x110ca69b0>"
      ]
     },
     "metadata": {},
     "output_type": "display_data"
    }
   ],
   "source": [
    "plt.figure(figsize=(10,5))\n",
    "plt.plot([2,3,4,5,6,7,8,10,12,15,17,20,25,30],perf_logreg,color='blue', linestyle='dashed', marker='o',\n",
    "         markerfacecolor='red', markersize=8)\n",
    "plt.title('F1-score vs. # of Topic with Log Reg')\n",
    "plt.xlabel('# of Topic')\n",
    "plt.ylabel('F1-score')"
   ]
  },
  {
   "cell_type": "markdown",
   "metadata": {},
   "source": [
    "We can see that with 17 topics extracted from the corpus we get the best performance"
   ]
  },
  {
   "cell_type": "markdown",
   "metadata": {},
   "source": [
    "### Classification result using 17 topics extracted"
   ]
  },
  {
   "cell_type": "code",
   "execution_count": 18,
   "metadata": {
    "collapsed": false
   },
   "outputs": [
    {
     "name": "stdout",
     "output_type": "stream",
     "text": [
      "Confusion matrix : \n",
      " [[ 99   1]\n",
      " [  0 100]]\n",
      "F1-score :  0.995024875622\n"
     ]
    }
   ],
   "source": [
    "X_doctopic_17 = np.array(np.load(\"./data/doc_topic_dist_17.npy\")).astype(float)\n",
    "X_train_17, X_test_17, y_train_17, y_test_17 = train_test_split(X_doctopic_17, y, test_size=0.1, random_state=11)\n",
    "log_clf_17 = LogisticRegression()\n",
    "log_clf_17.fit(X_train_17,y_train_17)\n",
    "pred_log_17 = log_clf_17.predict(X_test_17)\n",
    "\n",
    "print(\"Confusion matrix : \\n\", confusion_matrix(y_test_17,pred_log_17))\n",
    "print(\"F1-score : \", f1_score(y_test_17,pred_log_17))"
   ]
  },
  {
   "cell_type": "markdown",
   "metadata": {},
   "source": [
    "## SVC"
   ]
  },
  {
   "cell_type": "code",
   "execution_count": 108,
   "metadata": {
    "collapsed": true
   },
   "outputs": [],
   "source": [
    "perf_svc = lda_clf('svc',y)"
   ]
  },
  {
   "cell_type": "code",
   "execution_count": 110,
   "metadata": {
    "collapsed": false
   },
   "outputs": [
    {
     "data": {
      "text/plain": [
       "<matplotlib.text.Text at 0x193dafbe0>"
      ]
     },
     "execution_count": 110,
     "metadata": {},
     "output_type": "execute_result"
    },
    {
     "data": {
      "image/png": "[encoded data removed]",
      "text/plain": [
       "<matplotlib.figure.Figure at 0x193d97780>"
      ]
     },
     "metadata": {},
     "output_type": "display_data"
    }
   ],
   "source": [
    "plt.figure(figsize=(10,5))\n",
    "plt.plot([2,3,4,5,6,7,8,10,12,15,17,20,25,30],perf_svc,color='blue', linestyle='dashed', marker='o',\n",
    "         markerfacecolor='red', markersize=8)\n",
    "plt.title('F1-score vs. # of Topic with SVC')\n",
    "plt.xlabel('# of Topic')\n",
    "plt.ylabel('F1-score')"
   ]
  },
  {
   "cell_type": "markdown",
   "metadata": {},
   "source": [
    "This time with SVC the best performance is obtained with 15 and 20 topics extracted."
   ]
  },
  {
   "cell_type": "markdown",
   "metadata": {},
   "source": [
    "### Classification result using 15 topics extracted"
   ]
  },
  {
   "cell_type": "code",
   "execution_count": 178,
   "metadata": {
    "collapsed": false
   },
   "outputs": [
    {
     "name": "stdout",
     "output_type": "stream",
     "text": [
      "Confusion matrix : \n",
      " [[ 99   1]\n",
      " [  0 100]]\n",
      "F1-score :  0.995024875622\n"
     ]
    }
   ],
   "source": [
    "X_doctopic_15 = np.array(np.load(\"./data/doc_topic_dist_15.npy\")).astype(float)\n",
    "X_train_15, X_test_15, y_train_15, y_test_15 = train_test_split(X_doctopic_15, y, test_size=0.1, random_state=11)\n",
    "svc_clf_15 = SVC()\n",
    "svc_clf_15.fit(X_train_15,y_train_15)\n",
    "pred_svc_15 = svc_clf_15.predict(X_test_15)\n",
    "\n",
    "print(\"Confusion matrix : \\n\", confusion_matrix(y_test,pred_svc_15))\n",
    "print(\"F1-score : \", f1_score(y_test,pred_svc_15))"
   ]
  },
  {
   "cell_type": "markdown",
   "metadata": {},
   "source": [
    "### Conclusion\n",
    "We can see that the classification using LDA performs slightly better. "
   ]
  },
  {
   "cell_type": "markdown",
   "metadata": {},
   "source": [
    "## Neural Network\n",
    "Now let's try to use a simple neural net to see if we can improve more."
   ]
  },
  {
   "cell_type": "code",
   "execution_count": 36,
   "metadata": {
    "collapsed": false
   },
   "outputs": [
    {
     "name": "stderr",
     "output_type": "stream",
     "text": [
      "Using TensorFlow backend.\n"
     ]
    }
   ],
   "source": [
    "from keras.models import Sequential\n",
    "from keras.layers import Dense, Dropout, Activation\n",
    "from keras.layers import Embedding\n",
    "from keras.layers import Conv1D, GlobalMaxPooling1D\n",
    "from keras.preprocessing.text import Tokenizer\n",
    "from keras.preprocessing import sequence\n",
    "from keras import metrics\n",
    "import time"
   ]
  },
  {
   "cell_type": "code",
   "execution_count": 37,
   "metadata": {
    "collapsed": true
   },
   "outputs": [],
   "source": [
    "cat = df.category\n",
    "text = df.content"
   ]
  },
  {
   "cell_type": "code",
   "execution_count": 7,
   "metadata": {
    "collapsed": false
   },
   "outputs": [],
   "source": [
    "tok = Tokenizer()\n",
    "tok.fit_on_texts(text)\n",
    "mat_texts = tok.texts_to_matrix(text,mode='count') #build a Term-Document matrix"
   ]
  },
  {
   "cell_type": "code",
   "execution_count": 8,
   "metadata": {
    "collapsed": true
   },
   "outputs": [],
   "source": [
    "X_train_nn, X_test_nn, y_train_nn, y_test_nn = train_test_split(mat_texts, cat, test_size=0.1, random_state=11)"
   ]
  },
  {
   "cell_type": "code",
   "execution_count": 9,
   "metadata": {
    "collapsed": false
   },
   "outputs": [
    {
     "name": "stdout",
     "output_type": "stream",
     "text": [
      "(1800, 68159) (2000, 68159)\n"
     ]
    }
   ],
   "source": [
    "print(X_train_nn.shape,mat_texts.shape)"
   ]
  },
  {
   "cell_type": "code",
   "execution_count": 40,
   "metadata": {
    "collapsed": true
   },
   "outputs": [],
   "source": [
    "def train_simple_model(X,y):\n",
    "    model = Sequential()\n",
    "    model.add(Dense(10, activation='relu', input_shape=(X.shape[1],)))\n",
    "    model.add(Dense(20, activation='relu'))\n",
    "    model.add(Dense(10, activation='relu'))\n",
    "    model.add(Dense(1, activation='sigmoid')) #\n",
    "    model.compile(loss='binary_crossentropy',\n",
    "              optimizer='adam',\n",
    "              metrics=['acc',metrics.binary_accuracy])\n",
    "    print('compile done')\n",
    "    model.fit(X,y,batch_size=32,verbose=1,epochs=3,validation_split=0.1)\n",
    "\n",
    "    return model"
   ]
  },
  {
   "cell_type": "markdown",
   "metadata": {},
   "source": [
    "Since it is a binary classification problem, we use the sigmoid activation function in a one-unit output layer."
   ]
  },
  {
   "cell_type": "code",
   "execution_count": 103,
   "metadata": {
    "collapsed": false
   },
   "outputs": [
    {
     "name": "stdout",
     "output_type": "stream",
     "text": [
      "compile done\n",
      "Train on 1620 samples, validate on 180 samples\n",
      "Epoch 1/3\n",
      "1620/1620 [==============================] - 3s 2ms/step - loss: 0.3018 - acc: 0.9531 - binary_accuracy: 0.9531 - val_loss: 0.1548 - val_acc: 0.9833 - val_binary_accuracy: 0.9833\n",
      "Epoch 2/3\n",
      "1620/1620 [==============================] - 2s 1ms/step - loss: 0.0789 - acc: 0.9988 - binary_accuracy: 0.9988 - val_loss: 0.0758 - val_acc: 1.0000 - val_binary_accuracy: 1.0000\n",
      "Epoch 3/3\n",
      "1620/1620 [==============================] - 2s 1ms/step - loss: 0.0317 - acc: 1.0000 - binary_accuracy: 1.0000 - val_loss: 0.0460 - val_acc: 1.0000 - val_binary_accuracy: 1.0000\n"
     ]
    }
   ],
   "source": [
    "m = train_simple_model(X_train_nn,y_train_nn)"
   ]
  },
  {
   "cell_type": "markdown",
   "metadata": {},
   "source": [
    "### Classification result"
   ]
  },
  {
   "cell_type": "code",
   "execution_count": 106,
   "metadata": {
    "collapsed": false
   },
   "outputs": [
    {
     "name": "stdout",
     "output_type": "stream",
     "text": [
      "200/200 [==============================] - 0s 596us/step\n",
      "Confusion matrix : \n",
      " [[ 97   3]\n",
      " [  0 100]]\n",
      "F1-score :  0.985221674877\n"
     ]
    }
   ],
   "source": [
    "pred_nn = m.predict_classes(X_test_nn)\n",
    "print(\"Confusion matrix : \\n\", confusion_matrix(y_test_nn,pred_nn))\n",
    "print(\"F1-score : \", f1_score(y_test_nn,pred_nn))"
   ]
  },
  {
   "cell_type": "markdown",
   "metadata": {},
   "source": [
    "It would be interesting to see how the performance changes depending on the mode chosen in `texts_to_matrix()` function.   \n",
    "Indeed this function provides a suite of standard bag-of-words model text encoding schemes such as:\n",
    "\n",
    "* ‘binary‘: Check whether or not each word is present in the document.\n",
    "* ‘count‘: The count of each word in the document (Term-Document matrix) \n",
    "* ‘tfidf‘: The Text Frequency-Inverse DocumentFrequency scoring for each word in the document.\n",
    "* ‘freq‘: The frequency of each word as a ratio of words within each document."
   ]
  },
  {
   "cell_type": "code",
   "execution_count": 67,
   "metadata": {
    "collapsed": true
   },
   "outputs": [],
   "source": [
    "def nn_using(scheme):\n",
    "    tk = Tokenizer()\n",
    "    tk.fit_on_texts(text)\n",
    "    mat_txt = tk.texts_to_matrix(text,mode=scheme)\n",
    "    X_tr_nn, X_te_nn, y_tr_nn, y_te_nn = train_test_split(mat_txt, cat, test_size=0.1, random_state=11)\n",
    "    mod = train_simple_model(X_tr_nn,y_tr_nn)\n",
    "    print('------------------------- \\n')\n",
    "    return mod\n",
    "    "
   ]
  },
  {
   "cell_type": "code",
   "execution_count": 68,
   "metadata": {
    "collapsed": false
   },
   "outputs": [
    {
     "name": "stdout",
     "output_type": "stream",
     "text": [
      "Simple Neural Net using count scheme\n",
      "compile done\n",
      "Train on 1620 samples, validate on 180 samples\n",
      "Epoch 1/3\n",
      "1620/1620 [==============================] - 4s 2ms/step - loss: 0.3728 - acc: 0.8833 - binary_accuracy: 0.8833 - val_loss: 0.1699 - val_acc: 1.0000 - val_binary_accuracy: 1.0000\n",
      "Epoch 2/3\n",
      "1620/1620 [==============================] - 2s 1ms/step - loss: 0.0941 - acc: 0.9981 - binary_accuracy: 0.9981 - val_loss: 0.0848 - val_acc: 1.0000 - val_binary_accuracy: 1.0000\n",
      "Epoch 3/3\n",
      "1620/1620 [==============================] - 2s 1ms/step - loss: 0.0353 - acc: 1.0000 - binary_accuracy: 1.0000 - val_loss: 0.0488 - val_acc: 1.0000 - val_binary_accuracy: 1.0000\n",
      "------------------------- \n",
      "\n",
      "Simple Neural Net using binary scheme\n",
      "compile done\n",
      "Train on 1620 samples, validate on 180 samples\n",
      "Epoch 1/3\n",
      "1620/1620 [==============================] - 4s 2ms/step - loss: 0.3701 - acc: 0.9407 - binary_accuracy: 0.9407 - val_loss: 0.1633 - val_acc: 0.9833 - val_binary_accuracy: 0.9833\n",
      "Epoch 2/3\n",
      "1620/1620 [==============================] - 2s 1ms/step - loss: 0.0745 - acc: 0.9969 - binary_accuracy: 0.9969 - val_loss: 0.0811 - val_acc: 0.9833 - val_binary_accuracy: 0.9833\n",
      "Epoch 3/3\n",
      "1620/1620 [==============================] - 2s 1ms/step - loss: 0.0216 - acc: 1.0000 - binary_accuracy: 1.0000 - val_loss: 0.0671 - val_acc: 0.9944 - val_binary_accuracy: 0.9944\n",
      "------------------------- \n",
      "\n",
      "Simple Neural Net using tfidf scheme\n",
      "compile done\n",
      "Train on 1620 samples, validate on 180 samples\n",
      "Epoch 1/3\n",
      "1620/1620 [==============================] - 4s 3ms/step - loss: 0.3425 - acc: 0.9512 - binary_accuracy: 0.9512 - val_loss: 0.1688 - val_acc: 0.9889 - val_binary_accuracy: 0.9889\n",
      "Epoch 2/3\n",
      "1620/1620 [==============================] - 2s 1ms/step - loss: 0.0694 - acc: 0.9994 - binary_accuracy: 0.9994 - val_loss: 0.1007 - val_acc: 0.9889 - val_binary_accuracy: 0.9889\n",
      "Epoch 3/3\n",
      "1620/1620 [==============================] - 2s 1ms/step - loss: 0.0192 - acc: 1.0000 - binary_accuracy: 1.0000 - val_loss: 0.0693 - val_acc: 0.9944 - val_binary_accuracy: 0.9944\n",
      "------------------------- \n",
      "\n",
      "Simple Neural Net using freq scheme\n",
      "compile done\n",
      "Train on 1620 samples, validate on 180 samples\n",
      "Epoch 1/3\n",
      "1620/1620 [==============================] - 4s 2ms/step - loss: 0.6812 - acc: 0.8944 - binary_accuracy: 0.8944 - val_loss: 0.6589 - val_acc: 0.9611 - val_binary_accuracy: 0.9611\n",
      "Epoch 2/3\n",
      "1620/1620 [==============================] - 2s 1ms/step - loss: 0.6209 - acc: 0.9673 - binary_accuracy: 0.9673 - val_loss: 0.5642 - val_acc: 0.9556 - val_binary_accuracy: 0.9556\n",
      "Epoch 3/3\n",
      "1620/1620 [==============================] - 2s 1ms/step - loss: 0.4908 - acc: 0.9691 - binary_accuracy: 0.9691 - val_loss: 0.3959 - val_acc: 0.9778 - val_binary_accuracy: 0.9778\n",
      "------------------------- \n",
      "\n"
     ]
    }
   ],
   "source": [
    "schemes = ['count','binary','tfidf','freq']\n",
    "list_models = []\n",
    "for sh in schemes:\n",
    "    print('Simple Neural Net using '+ sh+ ' scheme')\n",
    "    list_models.append(nn_using(sh))"
   ]
  },
  {
   "cell_type": "code",
   "execution_count": 69,
   "metadata": {
    "collapsed": false
   },
   "outputs": [],
   "source": [
    "df_nn_sch = pd.DataFrame(\n",
    "    {'Count scheme': list_models[0].model.history.history['val_binary_accuracy'],\n",
    "     'Binary scheme': list_models[1].model.history.history['val_binary_accuracy'],\n",
    "     'Tfidf scheme': list_models[2].model.history.history['val_binary_accuracy'],\n",
    "     'Freq scheme' : list_models[3].model.history.history['val_binary_accuracy']\n",
    "    })"
   ]
  },
  {
   "cell_type": "code",
   "execution_count": 70,
   "metadata": {
    "collapsed": false
   },
   "outputs": [
    {
     "data": {
      "image/png": "[encoded data removed]",
      "text/plain": [
       "<matplotlib.figure.Figure at 0x1ceee4f28>"
      ]
     },
     "metadata": {},
     "output_type": "display_data"
    }
   ],
   "source": [
    "plt.figure(figsize=(10,3))\n",
    "df_nn_sch.boxplot()\n",
    "plt.title('Validation Accuracy')\n",
    "plt.ylabel('accuracy')\n",
    "plt.xlabel('Encoding Scheme')\n",
    "plt.show()"
   ]
  },
  {
   "cell_type": "markdown",
   "metadata": {},
   "source": [
    "We can see that the encoding scheme `count` is the most efficient but the difference with the others, except the `freq` scheme, is not very significant. "
   ]
  },
  {
   "cell_type": "markdown",
   "metadata": {},
   "source": [
    "## LSTM Recurrent Neural Network\n",
    "\n",
    "From different sources that I could obtain, RNN is a popular option for text classification and especially the LSTM RNN which enables the neural networks to look backwards in the network and gives a memory to better understand the squential data. \n",
    "\n",
    "source: https://chrisalbon.com/deep-learning-keras/lstm_recurrent_neural_network.html"
   ]
  },
  {
   "cell_type": "code",
   "execution_count": 73,
   "metadata": {
    "collapsed": true
   },
   "outputs": [],
   "source": [
    "from keras.preprocessing import sequence\n",
    "from keras import models\n",
    "from keras import layers\n",
    "from keras.wrappers.scikit_learn import KerasClassifier\n",
    "\n",
    "from sklearn.model_selection import StratifiedKFold\n",
    "from sklearn.model_selection import cross_val_score"
   ]
  },
  {
   "cell_type": "code",
   "execution_count": 58,
   "metadata": {
    "collapsed": false
   },
   "outputs": [
    {
     "data": {
      "text/plain": [
       "(2000, 400)"
      ]
     },
     "execution_count": 58,
     "metadata": {},
     "output_type": "execute_result"
    }
   ],
   "source": [
    "most_commons = 1000\n",
    "tokens = Tokenizer(num_words=most_commons) # use only 1000 most commons words\n",
    "tokens.fit_on_texts(text)\n",
    "texts_seq = tokens.texts_to_sequences(text)\n",
    "texts_mat_pad = sequence.pad_sequences(texts_seq, maxlen=400) #choose the max lenght of matrix to 40 and pad with 0 to make sure to have the same lenght\n",
    "texts_mat_pad.shape"
   ]
  },
  {
   "cell_type": "markdown",
   "metadata": {},
   "source": [
    "Mainly due to the lack of computation of my laptop we use only 1000 most commons words and choose the max lenght of matrix to 400. Then we pad with 0 to make sure to have the same lenght."
   ]
  },
  {
   "cell_type": "code",
   "execution_count": 59,
   "metadata": {
    "collapsed": true
   },
   "outputs": [],
   "source": [
    "X_train_rnn, X_test_rnn, y_train_rnn, y_test_rnn = train_test_split(texts_mat_pad, cat, test_size=0.1, random_state=11)"
   ]
  },
  {
   "cell_type": "code",
   "execution_count": 77,
   "metadata": {
    "collapsed": true
   },
   "outputs": [],
   "source": [
    "def RNN(X, mostcom):\n",
    "    # Start neural network\n",
    "    network = models.Sequential()\n",
    "    # Add an embedding layer\n",
    "    network.add(layers.Embedding(input_dim=mostcom, output_dim=128))\n",
    "    # Add a long short-term memory layer with 128 units\n",
    "    network.add(layers.LSTM(units=128))\n",
    "    # Add fully connected layer with a sigmoid activation function\n",
    "    network.add(layers.Dense(units=1, activation='sigmoid'))\n",
    "    # Compile neural network\n",
    "    network.compile(loss='binary_crossentropy', # Cross-entropy\n",
    "                    optimizer='Adam', # Adam optimization\n",
    "                    metrics=['accuracy']) # Accuracy performance metric\n",
    "    return network"
   ]
  },
  {
   "cell_type": "code",
   "execution_count": 113,
   "metadata": {
    "collapsed": false
   },
   "outputs": [],
   "source": [
    "def train_nn(network, X,y):\n",
    "# Train neural network\n",
    "    history = network.fit(X,y,epochs=10, # Number of epochs\n",
    "                      verbose=1, # Do not print description after each epoch\n",
    "                      batch_size=100, # Number of observations per batch\n",
    "                      validation_split=0.1) # Data for evaluation\n",
    "    \n",
    "    return history"
   ]
  },
  {
   "cell_type": "markdown",
   "metadata": {},
   "source": [
    "### Evaluate model with standardized dataset"
   ]
  },
  {
   "cell_type": "code",
   "execution_count": 82,
   "metadata": {
    "collapsed": false
   },
   "outputs": [
    {
     "name": "stdout",
     "output_type": "stream",
     "text": [
      "Train on 1458 samples, validate on 162 samples\n",
      "Epoch 1/3\n",
      "1458/1458 [==============================] - 52s 36ms/step - loss: 0.0224 - acc: 0.9938 - val_loss: 0.0431 - val_acc: 0.9815\n",
      "Epoch 2/3\n",
      "1458/1458 [==============================] - 60s 41ms/step - loss: 0.0188 - acc: 0.9952 - val_loss: 0.0384 - val_acc: 0.9815\n",
      "Epoch 3/3\n",
      "1458/1458 [==============================] - 54s 37ms/step - loss: 0.0160 - acc: 0.9959 - val_loss: 0.0352 - val_acc: 0.9877\n",
      "Train on 1458 samples, validate on 162 samples\n",
      "Epoch 1/3\n",
      "1458/1458 [==============================] - 56s 39ms/step - loss: 0.0110 - acc: 0.9979 - val_loss: 0.0324 - val_acc: 0.9877\n",
      "Epoch 2/3\n",
      "1458/1458 [==============================] - 54s 37ms/step - loss: 0.0095 - acc: 0.9979 - val_loss: 0.0312 - val_acc: 0.9877\n",
      "Epoch 3/3\n",
      "1458/1458 [==============================] - 52s 36ms/step - loss: 0.0082 - acc: 0.9979 - val_loss: 0.0293 - val_acc: 0.9877\n",
      "Train on 1458 samples, validate on 162 samples\n",
      "Epoch 1/3\n",
      "1458/1458 [==============================] - 51s 35ms/step - loss: 0.0109 - acc: 0.9979 - val_loss: 0.0295 - val_acc: 0.9877\n",
      "Epoch 2/3\n",
      "1458/1458 [==============================] - 49s 33ms/step - loss: 0.0093 - acc: 0.9979 - val_loss: 0.0293 - val_acc: 0.9877\n",
      "Epoch 3/3\n",
      "1458/1458 [==============================] - 50s 34ms/step - loss: 0.0080 - acc: 0.9979 - val_loss: 0.0291 - val_acc: 0.9877\n",
      "Train on 1458 samples, validate on 162 samples\n",
      "Epoch 1/3\n",
      "1458/1458 [==============================] - 50s 34ms/step - loss: 0.0066 - acc: 0.9993 - val_loss: 0.0267 - val_acc: 0.9877\n",
      "Epoch 2/3\n",
      "1458/1458 [==============================] - 50s 34ms/step - loss: 0.0055 - acc: 0.9986 - val_loss: 0.0270 - val_acc: 0.9877\n",
      "Epoch 3/3\n",
      "1458/1458 [==============================] - 50s 34ms/step - loss: 0.0045 - acc: 0.9993 - val_loss: 0.0254 - val_acc: 0.9877\n",
      "Train on 1458 samples, validate on 162 samples\n",
      "Epoch 1/3\n",
      "1458/1458 [==============================] - 50s 34ms/step - loss: 0.0034 - acc: 0.9993 - val_loss: 0.0228 - val_acc: 0.9938\n",
      "Epoch 2/3\n",
      "1458/1458 [==============================] - 45s 31ms/step - loss: 0.0023 - acc: 0.9993 - val_loss: 0.0209 - val_acc: 0.9938\n",
      "Epoch 3/3\n",
      "1458/1458 [==============================] - 47s 32ms/step - loss: 0.0016 - acc: 0.9993 - val_loss: 0.0193 - val_acc: 0.9938\n",
      "Train on 1458 samples, validate on 162 samples\n",
      "Epoch 1/3\n",
      "1458/1458 [==============================] - 46s 31ms/step - loss: 0.0013 - acc: 1.0000 - val_loss: 0.0190 - val_acc: 0.9938\n",
      "Epoch 2/3\n",
      "1458/1458 [==============================] - 51s 35ms/step - loss: 0.0011 - acc: 1.0000 - val_loss: 0.0179 - val_acc: 0.9938\n",
      "Epoch 3/3\n",
      "1458/1458 [==============================] - 52s 35ms/step - loss: 8.7737e-04 - acc: 1.0000 - val_loss: 0.0174 - val_acc: 0.9938\n",
      "Train on 1458 samples, validate on 162 samples\n",
      "Epoch 1/3\n",
      "1458/1458 [==============================] - 51s 35ms/step - loss: 7.5646e-04 - acc: 1.0000 - val_loss: 0.0168 - val_acc: 0.9938\n",
      "Epoch 2/3\n",
      "1458/1458 [==============================] - 50s 34ms/step - loss: 6.4099e-04 - acc: 1.0000 - val_loss: 0.0160 - val_acc: 0.9938\n",
      "Epoch 3/3\n",
      "1458/1458 [==============================] - 51s 35ms/step - loss: 5.4040e-04 - acc: 1.0000 - val_loss: 0.0157 - val_acc: 0.9938\n",
      "Train on 1458 samples, validate on 162 samples\n",
      "Epoch 1/3\n",
      "1458/1458 [==============================] - 49s 33ms/step - loss: 5.0753e-04 - acc: 1.0000 - val_loss: 0.0161 - val_acc: 0.9938\n",
      "Epoch 2/3\n",
      "1458/1458 [==============================] - 51s 35ms/step - loss: 4.4745e-04 - acc: 1.0000 - val_loss: 0.0156 - val_acc: 0.9938\n",
      "Epoch 3/3\n",
      "1458/1458 [==============================] - 54s 37ms/step - loss: 4.0395e-04 - acc: 1.0000 - val_loss: 0.0153 - val_acc: 0.9938\n",
      "Train on 1458 samples, validate on 162 samples\n",
      "Epoch 1/3\n",
      "1458/1458 [==============================] - 51s 35ms/step - loss: 3.9897e-04 - acc: 1.0000 - val_loss: 0.0151 - val_acc: 0.9938\n",
      "Epoch 2/3\n",
      "1458/1458 [==============================] - 48s 33ms/step - loss: 3.7282e-04 - acc: 1.0000 - val_loss: 0.0149 - val_acc: 0.9938\n",
      "Epoch 3/3\n",
      "1458/1458 [==============================] - 53s 36ms/step - loss: 3.4658e-04 - acc: 1.0000 - val_loss: 0.0148 - val_acc: 0.9938\n",
      "Train on 1458 samples, validate on 162 samples\n",
      "Epoch 1/3\n",
      "1458/1458 [==============================] - 51s 35ms/step - loss: 3.2279e-04 - acc: 1.0000 - val_loss: 2.0935e-04 - val_acc: 1.0000\n",
      "Epoch 2/3\n",
      "1458/1458 [==============================] - 48s 33ms/step - loss: 3.0277e-04 - acc: 1.0000 - val_loss: 1.9775e-04 - val_acc: 1.0000\n",
      "Epoch 3/3\n",
      "1458/1458 [==============================] - 50s 34ms/step - loss: 2.8458e-04 - acc: 1.0000 - val_loss: 1.8719e-04 - val_acc: 1.0000\n"
     ]
    }
   ],
   "source": [
    "k_fold = KFold(n_splits=10) \n",
    "rnn_cv = [train_nn(rnn,X_train_rnn[train], y_train_rnn[train]) for train, test in k_fold.split(X_train_rnn)]"
   ]
  },
  {
   "cell_type": "code",
   "execution_count": 112,
   "metadata": {
    "collapsed": false
   },
   "outputs": [
    {
     "name": "stdout",
     "output_type": "stream",
     "text": [
      "200/200 [==============================] - 2s 9ms/step\n",
      "200/200 [==============================] - 1s 7ms/step\n",
      "200/200 [==============================] - 2s 8ms/step\n",
      "200/200 [==============================] - 2s 8ms/step\n",
      "200/200 [==============================] - 2s 8ms/step\n",
      "200/200 [==============================] - 2s 9ms/step\n",
      "200/200 [==============================] - 1s 7ms/step\n",
      "200/200 [==============================] - 1s 6ms/step\n",
      "200/200 [==============================] - 1s 6ms/step\n",
      "200/200 [==============================] - 1s 6ms/step\n",
      "Results (variance): 97.03% (0.00%)\n"
     ]
    }
   ],
   "source": [
    "lst_f1 =[]\n",
    "for idx, model in enumerate(rnn_cv):\n",
    "    pred = model.model.predict_classes(X_test_rnn)\n",
    "    lst_f1.append(f1_score(y_test_rnn, pred))\n",
    "\n",
    "print(\"Results (variance): %.2f%% (%.2f%%)\" % (np.mean(lst_f1)*100, np.var(lst_f1)*100))"
   ]
  },
  {
   "cell_type": "markdown",
   "metadata": {},
   "source": [
    "Our model is stable and doesn't seem to do some overfitting. "
   ]
  },
  {
   "cell_type": "markdown",
   "metadata": {},
   "source": [
    "### Training the neural net"
   ]
  },
  {
   "cell_type": "code",
   "execution_count": 114,
   "metadata": {
    "collapsed": false
   },
   "outputs": [
    {
     "name": "stdout",
     "output_type": "stream",
     "text": [
      "Train on 1620 samples, validate on 180 samples\n",
      "Epoch 1/10\n",
      "1620/1620 [==============================] - 32s 20ms/step - loss: 0.6033 - acc: 0.7500 - val_loss: 0.3028 - val_acc: 0.8667\n",
      "Epoch 2/10\n",
      "1620/1620 [==============================] - 34s 21ms/step - loss: 0.1682 - acc: 0.9599 - val_loss: 0.0925 - val_acc: 0.9722\n",
      "Epoch 3/10\n",
      "1620/1620 [==============================] - 32s 20ms/step - loss: 0.0696 - acc: 0.9864 - val_loss: 0.0481 - val_acc: 0.9889\n",
      "Epoch 4/10\n",
      "1620/1620 [==============================] - 33s 21ms/step - loss: 0.0447 - acc: 0.9901 - val_loss: 0.0427 - val_acc: 0.9833\n",
      "Epoch 5/10\n",
      "1620/1620 [==============================] - 35s 22ms/step - loss: 0.0310 - acc: 0.9926 - val_loss: 0.0543 - val_acc: 0.9833\n",
      "Epoch 6/10\n",
      "1620/1620 [==============================] - 35s 21ms/step - loss: 0.0225 - acc: 0.9963 - val_loss: 0.0424 - val_acc: 0.9833\n",
      "Epoch 7/10\n",
      "1620/1620 [==============================] - 35s 22ms/step - loss: 0.0153 - acc: 0.9981 - val_loss: 0.0215 - val_acc: 0.9944\n",
      "Epoch 8/10\n",
      "1620/1620 [==============================] - 37s 23ms/step - loss: 0.0112 - acc: 0.9975 - val_loss: 0.0517 - val_acc: 0.9833\n",
      "Epoch 9/10\n",
      "1620/1620 [==============================] - 37s 23ms/step - loss: 0.0099 - acc: 0.9981 - val_loss: 0.0209 - val_acc: 0.9944\n",
      "Epoch 10/10\n",
      "1620/1620 [==============================] - 36s 22ms/step - loss: 0.0060 - acc: 0.9988 - val_loss: 0.0819 - val_acc: 0.9722\n"
     ]
    },
    {
     "data": {
      "text/plain": [
       "<keras.callbacks.History at 0x1cde33e80>"
      ]
     },
     "execution_count": 114,
     "metadata": {},
     "output_type": "execute_result"
    }
   ],
   "source": [
    "rnn = RNN(X_train_rnn, most_commons) \n",
    "trained_net = train_nn(rnn,X_train_rnn,y_train_rnn)\n",
    "trained_net"
   ]
  },
  {
   "cell_type": "code",
   "execution_count": 117,
   "metadata": {
    "collapsed": false
   },
   "outputs": [
    {
     "data": {
      "image/png": "[encoded data removed]",
      "text/plain": [
       "<matplotlib.figure.Figure at 0x1cf234860>"
      ]
     },
     "metadata": {},
     "output_type": "display_data"
    }
   ],
   "source": [
    "# summarize history for accuracy\n",
    "plt.figure(figsize=(10,4))\n",
    "plt.plot(trained_net.history['acc'])\n",
    "plt.plot(trained_net.history['val_acc'])\n",
    "plt.title('model accuracy')\n",
    "plt.ylabel('accuracy')\n",
    "plt.xlabel('epoch')\n",
    "plt.legend(['train', 'test'], loc='upper left')\n",
    "plt.show()"
   ]
  },
  {
   "cell_type": "markdown",
   "metadata": {},
   "source": [
    "### Classification result"
   ]
  },
  {
   "cell_type": "code",
   "execution_count": 120,
   "metadata": {
    "collapsed": false
   },
   "outputs": [
    {
     "name": "stdout",
     "output_type": "stream",
     "text": [
      "200/200 [==============================] - 2s 8ms/step\n",
      "Confusion matrix : \n",
      " [[91  9]\n",
      " [ 2 98]]\n",
      "F1-score :  0.946859903382\n"
     ]
    }
   ],
   "source": [
    "pred_rnn = trained_net.model.predict_classes(X_test_rnn)\n",
    "print(\"Confusion matrix : \\n\", confusion_matrix(y_test_rnn,pred_rnn))\n",
    "print(\"F1-score : \", f1_score(y_test_rnn,pred_rnn))"
   ]
  },
  {
   "cell_type": "markdown",
   "metadata": {
    "collapsed": true
   },
   "source": [
    "### Conclusion\n",
    "Surprisingly we don't get a better result than the simple neural net. One of the reasons is probably because our dataset is actually too small for LSTM to be of any advantage compared to other models (much faster) that we tested before.      \n",
    "\n",
    "To obtain a better result we could fine-tune parameters such as the number of common words(here only 1000) or the maximum lenght (here only 400) or also the parameters directly linked with training of the neural net (hidden layer, number of epoch or the batch size)."
   ]
  }
 ],
 "metadata": {
  "anaconda-cloud": {},
  "kernelspec": {
   "display_name": "Python [conda env:ada]",
   "language": "python",
   "name": "conda-env-ada-py"
  },
  "language_info": {
   "codemirror_mode": {
    "name": "ipython",
    "version": 3
   },
   "file_extension": ".py",
   "mimetype": "text/x-python",
   "name": "python",
   "nbconvert_exporter": "python",
   "pygments_lexer": "ipython3",
   "version": "3.5.2"
  }
 },
 "nbformat": 4,
 "nbformat_minor": 2
}
