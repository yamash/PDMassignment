{
 "cells": [
  {
   "cell_type": "markdown",
   "metadata": {},
   "source": [
    "# NLP"
   ]
  },
  {
   "cell_type": "markdown",
   "metadata": {},
   "source": [
    "## Import"
   ]
  },
  {
   "cell_type": "code",
   "execution_count": 11,
   "metadata": {
    "collapsed": true
   },
   "outputs": [],
   "source": [
    "import pandas as pd\n",
    "import numpy as np\n",
    "import re\n",
    "import seaborn as sns\n",
    "import matplotlib.pyplot as plt\n",
    "% matplotlib inline\n",
    "\n",
    "#From nltk\n",
    "from nltk.tokenize import word_tokenize\n",
    "from nltk import pos_tag\n",
    "from nltk.stem.porter import PorterStemmer\n",
    "from nltk.stem import WordNetLemmatizer\n",
    "from nltk.corpus import wordnet\n",
    "\n",
    "import stop_words\n",
    "import string\n",
    "\n",
    "#From sklearn\n",
    "from sklearn.decomposition import PCA\n",
    "from sklearn.preprocessing import LabelEncoder\n",
    "from sklearn.feature_extraction.text import CountVectorizer\n",
    "\n"
   ]
  },
  {
   "cell_type": "code",
   "execution_count": 2,
   "metadata": {
    "collapsed": true
   },
   "outputs": [],
   "source": [
    "df_se = pd.read_csv('./data/softeng1000.csv').drop('Unnamed: 0', axis=1)\n",
    "df_sp = pd.read_csv('./data/sports1000.csv').drop('Unnamed: 0', axis=1)"
   ]
  },
  {
   "cell_type": "code",
   "execution_count": 3,
   "metadata": {
    "collapsed": true
   },
   "outputs": [],
   "source": [
    "df_se['category'] = 'softeng'\n",
    "df_sp['category'] = 'sport'"
   ]
  },
  {
   "cell_type": "code",
   "execution_count": 4,
   "metadata": {
    "collapsed": false
   },
   "outputs": [
    {
     "data": {
      "text/html": [
       "<div>\n",
       "<style>\n",
       "    .dataframe thead tr:only-child th {\n",
       "        text-align: right;\n",
       "    }\n",
       "\n",
       "    .dataframe thead th {\n",
       "        text-align: left;\n",
       "    }\n",
       "\n",
       "    .dataframe tbody tr th {\n",
       "        vertical-align: top;\n",
       "    }\n",
       "</style>\n",
       "<table border=\"1\" class=\"dataframe\">\n",
       "  <thead>\n",
       "    <tr style=\"text-align: right;\">\n",
       "      <th></th>\n",
       "      <th>title</th>\n",
       "      <th>pageid</th>\n",
       "      <th>length</th>\n",
       "      <th>content</th>\n",
       "      <th>category</th>\n",
       "    </tr>\n",
       "  </thead>\n",
       "  <tbody>\n",
       "    <tr>\n",
       "      <th>0</th>\n",
       "      <td>acceptance testing</td>\n",
       "      <td>3233</td>\n",
       "      <td>16735</td>\n",
       "      <td>In engineering and its various subdisciplines,...</td>\n",
       "      <td>softeng</td>\n",
       "    </tr>\n",
       "    <tr>\n",
       "      <th>1</th>\n",
       "      <td>computer programming</td>\n",
       "      <td>5311</td>\n",
       "      <td>21691</td>\n",
       "      <td>Computer programming (often shortened to progr...</td>\n",
       "      <td>softeng</td>\n",
       "    </tr>\n",
       "    <tr>\n",
       "      <th>1998</th>\n",
       "      <td>1766 to 1770 in sports</td>\n",
       "      <td>55653852</td>\n",
       "      <td>5397</td>\n",
       "      <td>Events in world sport through the years 1766 t...</td>\n",
       "      <td>sport</td>\n",
       "    </tr>\n",
       "    <tr>\n",
       "      <th>1999</th>\n",
       "      <td>sports before 1001</td>\n",
       "      <td>55657864</td>\n",
       "      <td>13727</td>\n",
       "      <td>This article presents a chronology of sporting...</td>\n",
       "      <td>sport</td>\n",
       "    </tr>\n",
       "  </tbody>\n",
       "</table>\n",
       "</div>"
      ],
      "text/plain": [
       "                       title    pageid  length  \\\n",
       "0         acceptance testing      3233   16735   \n",
       "1       computer programming      5311   21691   \n",
       "1998  1766 to 1770 in sports  55653852    5397   \n",
       "1999      sports before 1001  55657864   13727   \n",
       "\n",
       "                                                content category  \n",
       "0     In engineering and its various subdisciplines,...  softeng  \n",
       "1     Computer programming (often shortened to progr...  softeng  \n",
       "1998  Events in world sport through the years 1766 t...    sport  \n",
       "1999  This article presents a chronology of sporting...    sport  "
      ]
     },
     "execution_count": 4,
     "metadata": {},
     "output_type": "execute_result"
    }
   ],
   "source": [
    "df_all = pd.concat([df_se, df_sp]).reset_index(drop=True)\n",
    "df_all.loc[[0,1,1998,1999]]"
   ]
  },
  {
   "cell_type": "markdown",
   "metadata": {
    "collapsed": true
   },
   "source": [
    "## Pre-Processing"
   ]
  },
  {
   "cell_type": "code",
   "execution_count": 6,
   "metadata": {
    "collapsed": false
   },
   "outputs": [],
   "source": [
    "lemmatizer = WordNetLemmatizer()"
   ]
  },
  {
   "cell_type": "code",
   "execution_count": 7,
   "metadata": {
    "collapsed": true
   },
   "outputs": [],
   "source": [
    "def get_wordnet_tag(treebank_tag):\n",
    "    \"\"\" enables to map pos tags from treebank to wordnet valid pos tags \n",
    "    (in order to feed the lemmatizer) \"\"\"\n",
    "    \n",
    "    if treebank_tag.startswith('J'):\n",
    "        return wordnet.ADJ\n",
    "    elif treebank_tag.startswith('V'):\n",
    "        return wordnet.VERB\n",
    "    elif treebank_tag.startswith('R'):\n",
    "        return wordnet.ADV\n",
    "    else:  # if starts with N or others (noun by default)\n",
    "        return wordnet.NOUN\n",
    "    \n",
    "def lemmatize(token):\n",
    "    \"\"\" final method to lemmatize using wordnet lemmatizer \"\"\"\n",
    "    \n",
    "    trbk_tag = pos_tag([token])[0][1]  # get the treebank tag from pos_tag method\n",
    "    wrdnt_tag = get_wordnet_tag(treebank_tag=trbk_tag)  # translate it to wordnet tag\n",
    "    return lemmatizer.lemmatize(token, wrdnt_tag)\n",
    "\n",
    "stop_words_ = stop_words.get_stop_words(\"en\")\n",
    "punctuation_filter = str.maketrans({key: None for key in string.punctuation})\n",
    "\n",
    "def nlp_pre_process(text):\n",
    "    \"\"\"\n",
    "    Reduces an input text into a list of tokens, \n",
    "    using NLP filterings such as normalization, \n",
    "    PoS and stop word filtering, stemming.\n",
    "    text: (str)\n",
    "    tokens: list(str)\n",
    "    \"\"\"\n",
    "    text = text.lower()  # normalize\n",
    "    text = text.translate(punctuation_filter)  # remove punctuation\n",
    "    tokens = word_tokenize(text)  # tokenize\n",
    "    pos_tags = [pos_tag([t]) for t in tokens]  # PoS tagging\n",
    "    tokens = [token for [(token, tag)] in pos_tags if tag != \"DT\"]  # PoS filtering\n",
    "    tokens = [t for t in tokens if t not in stop_words_]  # stop words filtering\n",
    "\n",
    "    tokens = [lemmatize(t) for t in tokens]  # lemmatizing\n",
    "    \n",
    "    return \" \".join(tokens)"
   ]
  },
  {
   "cell_type": "code",
   "execution_count": 7,
   "metadata": {
    "collapsed": false
   },
   "outputs": [
    {
     "name": "stderr",
     "output_type": "stream",
     "text": [
      "100%|██████████| 2000/2000 [09:56<00:00,  6.65it/s]\n"
     ]
    }
   ],
   "source": [
    "from tqdm import tqdm, tqdm_notebook\n",
    "tqdm.pandas(tqdm_notebook())\n",
    "\n",
    "df_all.content = df_all.content.progress_apply(nlp_pre_process)"
   ]
  },
  {
   "cell_type": "code",
   "execution_count": 11,
   "metadata": {
    "collapsed": false
   },
   "outputs": [],
   "source": [
    "df_all.to_csv(\"./wikiArticles_preprocessed.csv\")"
   ]
  },
  {
   "cell_type": "markdown",
   "metadata": {},
   "source": [
    "## TF-IDF\n",
    "To perform our classifiers we will use a well known method called TF-IDF which enable to convert the textual representation of information into a `Vector Space Model`. "
   ]
  },
  {
   "cell_type": "code",
   "execution_count": 12,
   "metadata": {
    "collapsed": false
   },
   "outputs": [],
   "source": [
    "df_pp = pd.read_csv(\"./data/wikiArticles_preprocessed.csv\", index_col='title').drop(['Unnamed: 0','length','pageid'], axis=1)"
   ]
  },
  {
   "cell_type": "code",
   "execution_count": 13,
   "metadata": {
    "collapsed": false
   },
   "outputs": [],
   "source": [
    "# Convert category type from sring to numerical value.\n",
    "label_encoder = LabelEncoder()\n",
    "label_encoder = label_encoder.fit(df_pp.category)\n",
    "df_pp.category = label_encoder.transform(df_pp.category) #softeng -> 0, sports -> 1"
   ]
  },
  {
   "cell_type": "code",
   "execution_count": 14,
   "metadata": {
    "collapsed": false
   },
   "outputs": [
    {
     "data": {
      "text/html": [
       "<div>\n",
       "<style>\n",
       "    .dataframe thead tr:only-child th {\n",
       "        text-align: right;\n",
       "    }\n",
       "\n",
       "    .dataframe thead th {\n",
       "        text-align: left;\n",
       "    }\n",
       "\n",
       "    .dataframe tbody tr th {\n",
       "        vertical-align: top;\n",
       "    }\n",
       "</style>\n",
       "<table border=\"1\" class=\"dataframe\">\n",
       "  <thead>\n",
       "    <tr style=\"text-align: right;\">\n",
       "      <th></th>\n",
       "      <th>content</th>\n",
       "      <th>category</th>\n",
       "    </tr>\n",
       "    <tr>\n",
       "      <th>title</th>\n",
       "      <th></th>\n",
       "      <th></th>\n",
       "    </tr>\n",
       "  </thead>\n",
       "  <tbody>\n",
       "    <tr>\n",
       "      <th>acceptance testing</th>\n",
       "      <td>engineering various subdisciplines acceptance ...</td>\n",
       "      <td>0</td>\n",
       "    </tr>\n",
       "    <tr>\n",
       "      <th>computer programming</th>\n",
       "      <td>computer program often shorten program process...</td>\n",
       "      <td>0</td>\n",
       "    </tr>\n",
       "    <tr>\n",
       "      <th>computer program</th>\n",
       "      <td>computer program collection instruction perfor...</td>\n",
       "      <td>0</td>\n",
       "    </tr>\n",
       "    <tr>\n",
       "      <th>context-free grammar</th>\n",
       "      <td>formal language theory contextfree grammar cfg...</td>\n",
       "      <td>0</td>\n",
       "    </tr>\n",
       "    <tr>\n",
       "      <th>code coverage</th>\n",
       "      <td>computer science code coverage measure use des...</td>\n",
       "      <td>0</td>\n",
       "    </tr>\n",
       "  </tbody>\n",
       "</table>\n",
       "</div>"
      ],
      "text/plain": [
       "                                                                content  \\\n",
       "title                                                                     \n",
       "acceptance testing    engineering various subdisciplines acceptance ...   \n",
       "computer programming  computer program often shorten program process...   \n",
       "computer program      computer program collection instruction perfor...   \n",
       "context-free grammar  formal language theory contextfree grammar cfg...   \n",
       "code coverage         computer science code coverage measure use des...   \n",
       "\n",
       "                      category  \n",
       "title                           \n",
       "acceptance testing           0  \n",
       "computer programming         0  \n",
       "computer program             0  \n",
       "context-free grammar         0  \n",
       "code coverage                0  "
      ]
     },
     "execution_count": 14,
     "metadata": {},
     "output_type": "execute_result"
    }
   ],
   "source": [
    "df_pp.head()"
   ]
  },
  {
   "cell_type": "markdown",
   "metadata": {},
   "source": [
    "We'll do convert each message into a vector in three steps using the bag-of-words model:\n",
    "\n",
    "1. Count how many times does a word occur in each message (=> term frequency)\n",
    "\n",
    "2. Weigh the counts, so that frequent tokens get lower weight (=> inverse document frequency)\n",
    "\n",
    "3. Normalize the vectors to unit length, to abstract from the original text length (L2 norm)"
   ]
  },
  {
   "cell_type": "code",
   "execution_count": 23,
   "metadata": {
    "collapsed": false
   },
   "outputs": [],
   "source": [
    "bow = CountVectorizer()"
   ]
  },
  {
   "cell_type": "code",
   "execution_count": 24,
   "metadata": {
    "collapsed": true
   },
   "outputs": [],
   "source": [
    "bow_transformer = bow.fit_transform(df_pp.content)\n",
    "#convert a collection of text documents to a matrix of token counts."
   ]
  },
  {
   "cell_type": "code",
   "execution_count": 25,
   "metadata": {
    "collapsed": false
   },
   "outputs": [
    {
     "name": "stdout",
     "output_type": "stream",
     "text": [
      "sparse matrix shape: (2000, 64698)\n",
      "non zero count: 532060\n",
      "sparcity: 0.4111873628241986\n"
     ]
    }
   ],
   "source": [
    "print('sparse matrix shape: ' + str(bow_transformer.shape))\n",
    "print('non zero count: ' + str(bow_transformer.nnz))\n",
    "print('sparcity: ' + str(100*bow_transformer.nnz / (bow_transformer.shape[0] * bow_transformer.shape[1])))"
   ]
  },
  {
   "cell_type": "markdown",
   "metadata": {},
   "source": [
    "We have then 64698 vocab words "
   ]
  },
  {
   "cell_type": "code",
   "execution_count": 26,
   "metadata": {
    "collapsed": false
   },
   "outputs": [],
   "source": [
    "from sklearn.feature_extraction.text import TfidfTransformer\n",
    "tfidf_transformer = TfidfTransformer()"
   ]
  },
  {
   "cell_type": "code",
   "execution_count": 27,
   "metadata": {
    "collapsed": true
   },
   "outputs": [],
   "source": [
    "X_tfidf = tfidf_transformer.fit_transform(bow_transformer)"
   ]
  },
  {
   "cell_type": "code",
   "execution_count": 28,
   "metadata": {
    "collapsed": false
   },
   "outputs": [
    {
     "data": {
      "text/plain": [
       "(2000, 64698)"
      ]
     },
     "execution_count": 28,
     "metadata": {},
     "output_type": "execute_result"
    }
   ],
   "source": [
    "X_tfidf.shape"
   ]
  },
  {
   "cell_type": "markdown",
   "metadata": {},
   "source": [
    "Let's apply a PCA to visualize quickly our features.  \n",
    "We can clearly see that our task won't be too difficult to get a correct resutl since only with two principal components we can notice that the two categories are separable."
   ]
  },
  {
   "cell_type": "code",
   "execution_count": 29,
   "metadata": {
    "collapsed": false
   },
   "outputs": [
    {
     "data": {
      "text/plain": [
       "<matplotlib.collections.PathCollection at 0x111871d68>"
      ]
     },
     "execution_count": 29,
     "metadata": {},
     "output_type": "execute_result"
    },
    {
     "data": {
      "image/png": "[encoded data removed]",
      "text/plain": [
       "<matplotlib.figure.Figure at 0x1135627b8>"
      ]
     },
     "metadata": {},
     "output_type": "display_data"
    }
   ],
   "source": [
    "X_tfidf_dense = X_tfidf.todense()\n",
    "pca = PCA(n_components=2).fit(X_tfidf_dense)\n",
    "data2D = pca.transform(X_tfidf_dense)\n",
    "plt.scatter(data2D[:,0], data2D[:,1], c=df_pp.category)"
   ]
  },
  {
   "cell_type": "markdown",
   "metadata": {},
   "source": [
    "### Export"
   ]
  },
  {
   "cell_type": "code",
   "execution_count": 30,
   "metadata": {
    "collapsed": true
   },
   "outputs": [],
   "source": [
    " np.save('tfidf_mat', X_tfidf.toarray())"
   ]
  },
  {
   "cell_type": "markdown",
   "metadata": {},
   "source": [
    "## LDA\n",
    "\n",
    "We will try to use LDA to extract the topic information and treat theses features for our classifiers."
   ]
  },
  {
   "cell_type": "code",
   "execution_count": 31,
   "metadata": {
    "collapsed": false
   },
   "outputs": [],
   "source": [
    "import lda\n",
    "import logging\n",
    "logging.getLogger(\"lda\").setLevel(logging.WARNING)  # disable INFOs output from lda\n",
    "from sklearn.manifold import TSNE"
   ]
  },
  {
   "cell_type": "code",
   "execution_count": 32,
   "metadata": {
    "collapsed": true
   },
   "outputs": [],
   "source": [
    "doctermMat =  bow_transformer.toarray()"
   ]
  },
  {
   "cell_type": "code",
   "execution_count": 33,
   "metadata": {
    "collapsed": false
   },
   "outputs": [
    {
     "data": {
      "text/plain": [
       "(2000, 64698)"
      ]
     },
     "execution_count": 33,
     "metadata": {},
     "output_type": "execute_result"
    }
   ],
   "source": [
    "doctermMat.shape"
   ]
  },
  {
   "cell_type": "code",
   "execution_count": 42,
   "metadata": {
    "collapsed": false
   },
   "outputs": [],
   "source": [
    "def topic_xtrct(num_topic, DTmat):\n",
    "    '''\n",
    "    This function enable to extract the choosen number of topics from the text already represent as a token matrix.\n",
    "\n",
    "    '''\n",
    "    N_TOPICS = num_topic\n",
    "    model_lda = lda.LDA(n_topics=N_TOPICS, n_iter=1500, random_state=1)\n",
    "    model_lda.fit(DTmat)\n",
    "    doc_topic = model_lda.doc_topic_\n",
    "    return doc_topic"
   ]
  },
  {
   "cell_type": "markdown",
   "metadata": {},
   "source": [
    "Since we don't know yet the number of topics that will perform the best classification we create several matrix and see later during the classification task.  \n",
    "Below is a test to see how lda performs when we want to extract 10 topics."
   ]
  },
  {
   "cell_type": "code",
   "execution_count": 34,
   "metadata": {
    "collapsed": false
   },
   "outputs": [
    {
     "data": {
      "text/plain": [
       "<lda.lda.LDA at 0x11187b940>"
      ]
     },
     "execution_count": 34,
     "metadata": {},
     "output_type": "execute_result"
    }
   ],
   "source": [
    "N_TOPICS = 10\n",
    "model_lda = lda.LDA(n_topics=N_TOPICS, n_iter=1500, random_state=1)\n",
    "model_lda.fit(doctermMat)"
   ]
  },
  {
   "cell_type": "code",
   "execution_count": 35,
   "metadata": {
    "collapsed": false
   },
   "outputs": [],
   "source": [
    "topic_word = model_lda.topic_word_"
   ]
  },
  {
   "cell_type": "code",
   "execution_count": 36,
   "metadata": {
    "collapsed": false
   },
   "outputs": [],
   "source": [
    "vocab = count_vect.get_feature_names()"
   ]
  },
  {
   "cell_type": "code",
   "execution_count": 37,
   "metadata": {
    "collapsed": false
   },
   "outputs": [
    {
     "name": "stdout",
     "output_type": "stream",
     "text": [
      "Topic 0: model application use web service system architecture data can software\n",
      "Topic 1: game also one make say south become people cricket century\n",
      "Topic 2: test software system use design development can requirement process engineering\n",
      "Topic 3: championship world cup winner win won defeat men woman league\n",
      "Topic 4: exercise training physical muscle weight increase yoga can study use\n",
      "Topic 5: program language use can code example function type one class\n",
      "Topic 6: team player league game number football club play rule season\n",
      "Topic 7: sport university international state game school national world event woman\n",
      "Topic 8: race horse award new year 2014 conference 2015 series 2013\n",
      "Topic 9: use can also ball make horse may suit one race\n"
     ]
    }
   ],
   "source": [
    "n_top_words = 10\n",
    "for i, topic_dist in enumerate(topic_word):\n",
    "    topic_words = np.array(vocab)[np.argsort(topic_dist)][:-(n_top_words+1):-1]\n",
    "    print('Topic {}: {}'.format(i, ' '.join(topic_words)))"
   ]
  },
  {
   "cell_type": "code",
   "execution_count": 38,
   "metadata": {
    "collapsed": false
   },
   "outputs": [],
   "source": [
    "doc_topic = model_lda.doc_topic_"
   ]
  },
  {
   "cell_type": "code",
   "execution_count": 39,
   "metadata": {
    "collapsed": true
   },
   "outputs": [],
   "source": [
    "titles = list(df_tfidf.index)"
   ]
  },
  {
   "cell_type": "code",
   "execution_count": 40,
   "metadata": {
    "collapsed": false
   },
   "outputs": [
    {
     "name": "stdout",
     "output_type": "stream",
     "text": [
      "acceptance testing (top topic: 2)\n",
      "computer programming (top topic: 5)\n",
      "computer program (top topic: 5)\n",
      "context-free grammar (top topic: 5)\n",
      "code coverage (top topic: 5)\n",
      "class computer programming (top topic: 5)\n",
      "hacker (top topic: 1)\n",
      "kludge (top topic: 1)\n",
      "lambda calculus (top topic: 5)\n",
      "software engineering (top topic: 2)\n"
     ]
    }
   ],
   "source": [
    "for i in range(10):\n",
    "    print(\"{} (top topic: {})\".format(titles[i], doc_topic[i].argmax()))"
   ]
  },
  {
   "cell_type": "code",
   "execution_count": 311,
   "metadata": {
    "collapsed": false
   },
   "outputs": [],
   "source": [
    "np.save('doc_topic_dist', doc_topic)"
   ]
  },
  {
   "cell_type": "markdown",
   "metadata": {},
   "source": [
    "### Export "
   ]
  },
  {
   "cell_type": "code",
   "execution_count": 44,
   "metadata": {
    "collapsed": false
   },
   "outputs": [
    {
     "name": "stdout",
     "output_type": "stream",
     "text": [
      "number of topic : 4\n",
      "number of topic : 6\n",
      "number of topic : 8\n",
      "number of topic : 12\n",
      "number of topic : 17\n",
      "number of topic : 25\n",
      "number of topic : 30\n"
     ]
    }
   ],
   "source": [
    "for i in [32,35,37,40,45]:\n",
    "    print(\"number of topic : \" + str(i))\n",
    "    doctop_dist = topic_xtrct(i,doctermMat)\n",
    "    np.save('doc_topic_dist_{nb}'.format(nb=i), doctop_dist)\n",
    "    "
   ]
  }
 ],
 "metadata": {
  "anaconda-cloud": {},
  "kernelspec": {
   "display_name": "Python [conda env:ada]",
   "language": "python",
   "name": "conda-env-ada-py"
  },
  "language_info": {
   "codemirror_mode": {
    "name": "ipython",
    "version": 3
   },
   "file_extension": ".py",
   "mimetype": "text/x-python",
   "name": "python",
   "nbconvert_exporter": "python",
   "pygments_lexer": "ipython3",
   "version": "3.5.2"
  }
 },
 "nbformat": 4,
 "nbformat_minor": 2
}
