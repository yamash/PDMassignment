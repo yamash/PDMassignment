{
 "cells": [
  {
   "cell_type": "code",
   "execution_count": 119,
   "metadata": {
    "collapsed": true
   },
   "outputs": [],
   "source": [
    "import pandas as pd\n",
    "import numpy as np\n",
    "import re\n",
    "import seaborn as sns\n",
    "import matplotlib.pyplot as plt\n",
    "% matplotlib inline\n",
    "from nltk.tokenize import word_tokenize\n",
    "from nltk import pos_tag\n",
    "from nltk.stem.porter import PorterStemmer\n",
    "from nltk.stem import WordNetLemmatizer\n",
    "import stop_words\n",
    "import string\n",
    "from nltk.corpus import wordnet\n",
    "from sklearn.decomposition import PCA\n",
    "from sklearn.preprocessing import LabelEncoder\n"
   ]
  },
  {
   "cell_type": "code",
   "execution_count": 2,
   "metadata": {
    "collapsed": true
   },
   "outputs": [],
   "source": [
    "df_se = pd.read_csv('./data/softeng1000.csv').drop('Unnamed: 0', axis=1)\n",
    "df_sp = pd.read_csv('./data/sports1000.csv').drop('Unnamed: 0', axis=1)"
   ]
  },
  {
   "cell_type": "code",
   "execution_count": 3,
   "metadata": {
    "collapsed": true
   },
   "outputs": [],
   "source": [
    "df_se['category'] = 'softeng'\n",
    "df_sp['category'] = 'sport'"
   ]
  },
  {
   "cell_type": "code",
   "execution_count": 4,
   "metadata": {
    "collapsed": false
   },
   "outputs": [
    {
     "data": {
      "text/html": [
       "<div>\n",
       "<style>\n",
       "    .dataframe thead tr:only-child th {\n",
       "        text-align: right;\n",
       "    }\n",
       "\n",
       "    .dataframe thead th {\n",
       "        text-align: left;\n",
       "    }\n",
       "\n",
       "    .dataframe tbody tr th {\n",
       "        vertical-align: top;\n",
       "    }\n",
       "</style>\n",
       "<table border=\"1\" class=\"dataframe\">\n",
       "  <thead>\n",
       "    <tr style=\"text-align: right;\">\n",
       "      <th></th>\n",
       "      <th>title</th>\n",
       "      <th>pageid</th>\n",
       "      <th>length</th>\n",
       "      <th>content</th>\n",
       "      <th>category</th>\n",
       "    </tr>\n",
       "  </thead>\n",
       "  <tbody>\n",
       "    <tr>\n",
       "      <th>0</th>\n",
       "      <td>acceptance testing</td>\n",
       "      <td>3233</td>\n",
       "      <td>16735</td>\n",
       "      <td>In engineering and its various subdisciplines,...</td>\n",
       "      <td>softeng</td>\n",
       "    </tr>\n",
       "    <tr>\n",
       "      <th>1</th>\n",
       "      <td>computer programming</td>\n",
       "      <td>5311</td>\n",
       "      <td>21691</td>\n",
       "      <td>Computer programming (often shortened to progr...</td>\n",
       "      <td>softeng</td>\n",
       "    </tr>\n",
       "    <tr>\n",
       "      <th>1998</th>\n",
       "      <td>1766 to 1770 in sports</td>\n",
       "      <td>55653852</td>\n",
       "      <td>5397</td>\n",
       "      <td>Events in world sport through the years 1766 t...</td>\n",
       "      <td>sport</td>\n",
       "    </tr>\n",
       "    <tr>\n",
       "      <th>1999</th>\n",
       "      <td>sports before 1001</td>\n",
       "      <td>55657864</td>\n",
       "      <td>13727</td>\n",
       "      <td>This article presents a chronology of sporting...</td>\n",
       "      <td>sport</td>\n",
       "    </tr>\n",
       "  </tbody>\n",
       "</table>\n",
       "</div>"
      ],
      "text/plain": [
       "                       title    pageid  length  \\\n",
       "0         acceptance testing      3233   16735   \n",
       "1       computer programming      5311   21691   \n",
       "1998  1766 to 1770 in sports  55653852    5397   \n",
       "1999      sports before 1001  55657864   13727   \n",
       "\n",
       "                                                content category  \n",
       "0     In engineering and its various subdisciplines,...  softeng  \n",
       "1     Computer programming (often shortened to progr...  softeng  \n",
       "1998  Events in world sport through the years 1766 t...    sport  \n",
       "1999  This article presents a chronology of sporting...    sport  "
      ]
     },
     "execution_count": 4,
     "metadata": {},
     "output_type": "execute_result"
    }
   ],
   "source": [
    "df_all = pd.concat([df_se, df_sp]).reset_index(drop=True)\n",
    "df_all.loc[[0,1,1998,1999]]"
   ]
  },
  {
   "cell_type": "markdown",
   "metadata": {},
   "source": [
    "# NLP"
   ]
  },
  {
   "cell_type": "markdown",
   "metadata": {
    "collapsed": true
   },
   "source": [
    "## Pre-Processing"
   ]
  },
  {
   "cell_type": "code",
   "execution_count": 5,
   "metadata": {
    "collapsed": false
   },
   "outputs": [],
   "source": [
    "lemmatizer = WordNetLemmatizer()"
   ]
  },
  {
   "cell_type": "code",
   "execution_count": 6,
   "metadata": {
    "collapsed": true
   },
   "outputs": [],
   "source": [
    "def get_wordnet_tag(treebank_tag):\n",
    "    \"\"\" enables to map pos tags from treebank to wordnet valid pos tags \n",
    "    (in order to feed the lemmatizer) \"\"\"\n",
    "    \n",
    "    if treebank_tag.startswith('J'):\n",
    "        return wordnet.ADJ\n",
    "    elif treebank_tag.startswith('V'):\n",
    "        return wordnet.VERB\n",
    "    elif treebank_tag.startswith('R'):\n",
    "        return wordnet.ADV\n",
    "    else:  # if starts with N or others (noun by default)\n",
    "        return wordnet.NOUN\n",
    "    \n",
    "def lemmatize(token):\n",
    "    \"\"\" final method to lemmatize using wordnet lemmatizer \"\"\"\n",
    "    \n",
    "    trbk_tag = pos_tag([token])[0][1]  # get the treebank tag from pos_tag method\n",
    "    wrdnt_tag = get_wordnet_tag(treebank_tag=trbk_tag)  # translate it to wordnet tag\n",
    "    return lemmatizer.lemmatize(token, wrdnt_tag)\n",
    "\n",
    "stop_words_ = stop_words.get_stop_words(\"en\")\n",
    "punctuation_filter = str.maketrans({key: None for key in string.punctuation})\n",
    "\n",
    "def nlp_pre_process(text):\n",
    "    \"\"\"\n",
    "    Reduces an input text into a list of tokens, \n",
    "    using NLP filterings such as normalization, \n",
    "    PoS and stop word filtering, stemming.\n",
    "    text: (str)\n",
    "    tokens: list(str)\n",
    "    \"\"\"\n",
    "    text = text.lower()  # normalize\n",
    "    text = text.translate(punctuation_filter)  # remove punctuation\n",
    "    tokens = word_tokenize(text)  # tokenize\n",
    "    pos_tags = [pos_tag([t]) for t in tokens]  # PoS tagging\n",
    "    tokens = [token for [(token, tag)] in pos_tags if tag != \"DT\"]  # PoS filtering\n",
    "    tokens = [t for t in tokens if t not in stop_words_]  # stop words filtering\n",
    "\n",
    "    tokens = [lemmatize(t) for t in tokens]  # lemmatizing\n",
    "    \n",
    "    return \" \".join(tokens)"
   ]
  },
  {
   "cell_type": "code",
   "execution_count": 7,
   "metadata": {
    "collapsed": false
   },
   "outputs": [
    {
     "name": "stderr",
     "output_type": "stream",
     "text": [
      "100%|██████████| 2000/2000 [09:56<00:00,  6.65it/s]\n"
     ]
    }
   ],
   "source": [
    "from tqdm import tqdm, tqdm_notebook\n",
    "tqdm.pandas(tqdm_notebook())\n",
    "\n",
    "df_all.content = df_all.content.progress_apply(nlp_pre_process)"
   ]
  },
  {
   "cell_type": "code",
   "execution_count": 11,
   "metadata": {
    "collapsed": false
   },
   "outputs": [],
   "source": [
    "df_all.to_csv(\"./wikiArticles_preprocessed.csv\")"
   ]
  },
  {
   "cell_type": "markdown",
   "metadata": {},
   "source": [
    "## TF-IDF"
   ]
  },
  {
   "cell_type": "code",
   "execution_count": 188,
   "metadata": {
    "collapsed": false
   },
   "outputs": [],
   "source": [
    "df = pd.read_csv(\"./data/wikiArticles_preprocessed.csv\", index_col='title').drop(['Unnamed: 0','length','pageid'], axis=1)"
   ]
  },
  {
   "cell_type": "code",
   "execution_count": 189,
   "metadata": {
    "collapsed": false
   },
   "outputs": [],
   "source": [
    "label_encoder = LabelEncoder()\n",
    "label_encoder = label_encoder.fit(df.category)\n",
    "df.category = label_encoder.transform(df.category) #softeng -> 0, sports -> 1"
   ]
  },
  {
   "cell_type": "code",
   "execution_count": 190,
   "metadata": {
    "collapsed": false
   },
   "outputs": [
    {
     "data": {
      "text/html": [
       "<div>\n",
       "<style>\n",
       "    .dataframe thead tr:only-child th {\n",
       "        text-align: right;\n",
       "    }\n",
       "\n",
       "    .dataframe thead th {\n",
       "        text-align: left;\n",
       "    }\n",
       "\n",
       "    .dataframe tbody tr th {\n",
       "        vertical-align: top;\n",
       "    }\n",
       "</style>\n",
       "<table border=\"1\" class=\"dataframe\">\n",
       "  <thead>\n",
       "    <tr style=\"text-align: right;\">\n",
       "      <th></th>\n",
       "      <th>content</th>\n",
       "      <th>category</th>\n",
       "    </tr>\n",
       "    <tr>\n",
       "      <th>title</th>\n",
       "      <th></th>\n",
       "      <th></th>\n",
       "    </tr>\n",
       "  </thead>\n",
       "  <tbody>\n",
       "    <tr>\n",
       "      <th>acceptance testing</th>\n",
       "      <td>engineering various subdisciplines acceptance ...</td>\n",
       "      <td>0</td>\n",
       "    </tr>\n",
       "    <tr>\n",
       "      <th>computer programming</th>\n",
       "      <td>computer program often shorten program process...</td>\n",
       "      <td>0</td>\n",
       "    </tr>\n",
       "    <tr>\n",
       "      <th>computer program</th>\n",
       "      <td>computer program collection instruction perfor...</td>\n",
       "      <td>0</td>\n",
       "    </tr>\n",
       "    <tr>\n",
       "      <th>context-free grammar</th>\n",
       "      <td>formal language theory contextfree grammar cfg...</td>\n",
       "      <td>0</td>\n",
       "    </tr>\n",
       "    <tr>\n",
       "      <th>code coverage</th>\n",
       "      <td>computer science code coverage measure use des...</td>\n",
       "      <td>0</td>\n",
       "    </tr>\n",
       "  </tbody>\n",
       "</table>\n",
       "</div>"
      ],
      "text/plain": [
       "                                                                content  \\\n",
       "title                                                                     \n",
       "acceptance testing    engineering various subdisciplines acceptance ...   \n",
       "computer programming  computer program often shorten program process...   \n",
       "computer program      computer program collection instruction perfor...   \n",
       "context-free grammar  formal language theory contextfree grammar cfg...   \n",
       "code coverage         computer science code coverage measure use des...   \n",
       "\n",
       "                      category  \n",
       "title                           \n",
       "acceptance testing           0  \n",
       "computer programming         0  \n",
       "computer program             0  \n",
       "context-free grammar         0  \n",
       "code coverage                0  "
      ]
     },
     "execution_count": 190,
     "metadata": {},
     "output_type": "execute_result"
    }
   ],
   "source": [
    "df.head()"
   ]
  },
  {
   "cell_type": "code",
   "execution_count": 210,
   "metadata": {
    "collapsed": false
   },
   "outputs": [],
   "source": [
    "Xtrain = pd.concat([df[0:900], df[1000:1900]]).drop('category',axis=1)\n",
    "Xtest = pd.concat([df[900:1000], df[1900:2000]]).drop('category',axis=1)\n",
    "\n",
    "ytrain = pd.concat([df[0:900], df[1000:1900]]).drop('content',axis=1)\n",
    "ytest = pd.concat([df[900:1000], df[1900:2000]]).drop('content',axis=1)"
   ]
  },
  {
   "cell_type": "code",
   "execution_count": 197,
   "metadata": {
    "collapsed": false
   },
   "outputs": [],
   "source": [
    "from sklearn.feature_extraction.text import CountVectorizer\n",
    "count_vect = CountVectorizer()"
   ]
  },
  {
   "cell_type": "code",
   "execution_count": 198,
   "metadata": {
    "collapsed": true
   },
   "outputs": [],
   "source": [
    "Xtrain_counts = count_vect.fit_transform(Xtrain.content)"
   ]
  },
  {
   "cell_type": "code",
   "execution_count": 199,
   "metadata": {
    "collapsed": false
   },
   "outputs": [
    {
     "name": "stdout",
     "output_type": "stream",
     "text": [
      "sparse matrix shape: (1800, 62057)\n",
      "non zero count: 502567\n",
      "sparcity: 0.4499152213108737\n"
     ]
    }
   ],
   "source": [
    "print('sparse matrix shape: ' + str(Xtrain_counts.shape))\n",
    "print('non zero count: ' + str(Xtrain_counts.nnz))\n",
    "print('sparcity: ' + str(100*Xtrain_counts.nnz / (Xtrain_counts.shape[0] * Xtrain_counts.shape[1])))"
   ]
  },
  {
   "cell_type": "code",
   "execution_count": 200,
   "metadata": {
    "collapsed": false
   },
   "outputs": [],
   "source": [
    "from sklearn.feature_extraction.text import TfidfTransformer\n",
    "tfidf_transformer = TfidfTransformer()"
   ]
  },
  {
   "cell_type": "code",
   "execution_count": 201,
   "metadata": {
    "collapsed": true
   },
   "outputs": [],
   "source": [
    "Xtrain_tfidf = tfidf_transformer.fit_transform(Xtrain_counts)"
   ]
  },
  {
   "cell_type": "code",
   "execution_count": 202,
   "metadata": {
    "collapsed": false
   },
   "outputs": [
    {
     "data": {
      "text/plain": [
       "(1800, 62057)"
      ]
     },
     "execution_count": 202,
     "metadata": {},
     "output_type": "execute_result"
    }
   ],
   "source": [
    "Xtrain_tfidf.shape"
   ]
  },
  {
   "cell_type": "code",
   "execution_count": 203,
   "metadata": {
    "collapsed": false
   },
   "outputs": [
    {
     "data": {
      "text/plain": [
       "<matplotlib.collections.PathCollection at 0x12000a588>"
      ]
     },
     "execution_count": 203,
     "metadata": {},
     "output_type": "execute_result"
    },
    {
     "data": {
      "image/png": "[encoded data removed]",
      "text/plain": [
       "<matplotlib.figure.Figure at 0x12000a8d0>"
      ]
     },
     "metadata": {},
     "output_type": "display_data"
    }
   ],
   "source": [
    "Xtrain_tfidf_dense = Xtrain_tfidf.todense()\n",
    "pca = PCA(n_components=2).fit(Xtrain_tfidf_dense)\n",
    "data2D = pca.transform(Xtrain_tfidf_dense)\n",
    "plt.scatter(data2D[:,0], data2D[:,1], c=ytrain.category)"
   ]
  },
  {
   "cell_type": "code",
   "execution_count": 206,
   "metadata": {
    "collapsed": true
   },
   "outputs": [],
   "source": [
    "from sklearn.pipeline import Pipeline\n",
    "from sklearn.naive_bayes import MultinomialNB\n",
    "from sklearn.metrics import confusion_matrix,classification_report"
   ]
  },
  {
   "cell_type": "code",
   "execution_count": 208,
   "metadata": {
    "collapsed": false
   },
   "outputs": [],
   "source": [
    "pipeline = Pipeline([\n",
    "    ('bow', CountVectorizer()),  # strings to token integer counts\n",
    "    ('tfidf', TfidfTransformer()),  # integer counts to weighted TF-IDF scores\n",
    "    ('classifier', MultinomialNB()),  # train on TF-IDF vectors w/ Naive Bayes classifier\n",
    "])"
   ]
  },
  {
   "cell_type": "code",
   "execution_count": 214,
   "metadata": {
    "collapsed": false
   },
   "outputs": [
    {
     "data": {
      "text/plain": [
       "Pipeline(steps=[('bow', CountVectorizer(analyzer='word', binary=False, decode_error='strict',\n",
       "        dtype=<class 'numpy.int64'>, encoding='utf-8', input='content',\n",
       "        lowercase=True, max_df=1.0, max_features=None, min_df=1,\n",
       "        ngram_range=(1, 1), preprocessor=None, stop_words=None,\n",
       "        strip_...f=False, use_idf=True)), ('classifier', MultinomialNB(alpha=1.0, class_prior=None, fit_prior=True))])"
      ]
     },
     "execution_count": 214,
     "metadata": {},
     "output_type": "execute_result"
    }
   ],
   "source": [
    "pipeline.fit(Xtrain.content,ytrain.category)"
   ]
  },
  {
   "cell_type": "code",
   "execution_count": 215,
   "metadata": {
    "collapsed": true
   },
   "outputs": [],
   "source": [
    "predictions = pipeline.predict(Xtest.content)"
   ]
  },
  {
   "cell_type": "code",
   "execution_count": 216,
   "metadata": {
    "collapsed": false
   },
   "outputs": [
    {
     "name": "stdout",
     "output_type": "stream",
     "text": [
      "[[ 97   3]\n",
      " [  0 100]]\n",
      "             precision    recall  f1-score   support\n",
      "\n",
      "          0       1.00      0.97      0.98       100\n",
      "          1       0.97      1.00      0.99       100\n",
      "\n",
      "avg / total       0.99      0.98      0.98       200\n",
      "\n"
     ]
    }
   ],
   "source": [
    "print(confusion_matrix(ytest.category,predictions))\n",
    "print(classification_report(ytest.category,predictions))"
   ]
  },
  {
   "cell_type": "code",
   "execution_count": null,
   "metadata": {
    "collapsed": true
   },
   "outputs": [],
   "source": []
  }
 ],
 "metadata": {
  "anaconda-cloud": {},
  "kernelspec": {
   "display_name": "Python [conda env:ada]",
   "language": "python",
   "name": "conda-env-ada-py"
  },
  "language_info": {
   "codemirror_mode": {
    "name": "ipython",
    "version": 3
   },
   "file_extension": ".py",
   "mimetype": "text/x-python",
   "name": "python",
   "nbconvert_exporter": "python",
   "pygments_lexer": "ipython3",
   "version": "3.5.2"
  },
  "widgets": {
   "state": {
    "ab8b001aca46480d8d957624177e0329": {
     "views": [
      {
       "cell_index": 8
      }
     ]
    }
   },
   "version": "1.2.0"
  }
 },
 "nbformat": 4,
 "nbformat_minor": 2
}
