{
 "cells": [
  {
   "cell_type": "code",
   "execution_count": 20,
   "metadata": {
    "collapsed": true
   },
   "outputs": [],
   "source": [
    "import pandas as pd\n",
    "import numpy as np\n",
    "import re\n",
    "import seaborn as sns\n",
    "import matplotlib.pyplot as plt\n",
    "% matplotlib inline\n",
    "from nltk.tokenize import word_tokenize\n",
    "from nltk import pos_tag\n",
    "from nltk.stem.porter import PorterStemmer\n",
    "from nltk.stem import WordNetLemmatizer\n",
    "import stop_words\n",
    "import string\n",
    "from nltk.corpus import wordnet"
   ]
  },
  {
   "cell_type": "code",
   "execution_count": 21,
   "metadata": {
    "collapsed": true
   },
   "outputs": [],
   "source": [
    "df_se = pd.read_csv('./data/softeng1000.csv').drop('Unnamed: 0', axis=1)\n",
    "df_sp = pd.read_csv('./data/sports1000.csv').drop('Unnamed: 0', axis=1)"
   ]
  },
  {
   "cell_type": "code",
   "execution_count": 22,
   "metadata": {
    "collapsed": true
   },
   "outputs": [],
   "source": [
    "df_se['category'] = 'softeng'\n",
    "df_sp['category'] = 'sport'"
   ]
  },
  {
   "cell_type": "code",
   "execution_count": 23,
   "metadata": {
    "collapsed": false
   },
   "outputs": [
    {
     "data": {
      "text/plain": [
       "(2000, 5)"
      ]
     },
     "execution_count": 23,
     "metadata": {},
     "output_type": "execute_result"
    }
   ],
   "source": [
    "df_all = pd.concat([df_se, df_sp])\n",
    "df_all.shape"
   ]
  },
  {
   "cell_type": "markdown",
   "metadata": {},
   "source": [
    "# NLP"
   ]
  },
  {
   "cell_type": "markdown",
   "metadata": {
    "collapsed": true
   },
   "source": [
    "## Pre-Processing"
   ]
  },
  {
   "cell_type": "code",
   "execution_count": null,
   "metadata": {
    "collapsed": true
   },
   "outputs": [],
   "source": [
    "stemmer = PorterStemmer()\n",
    "lemmatizer = WordNetLemmatizer()\n",
    "\n",
    "def get_wordnet_tag(treebank_tag):\n",
    "    \"\"\" enables to map pos tags from treebank to wordnet valid pos tags \n",
    "    (in order to feed the lemmatizer) \"\"\"\n",
    "    \n",
    "    if treebank_tag.startswith('J'):\n",
    "        return wordnet.ADJ\n",
    "    elif treebank_tag.startswith('V'):\n",
    "        return wordnet.VERB\n",
    "    elif treebank_tag.startswith('R'):\n",
    "        return wordnet.ADV\n",
    "    else:  # if starts with N or others (noun by default)\n",
    "        return wordnet.NOUN\n",
    "    \n",
    "def lemmatize(token):\n",
    "    \"\"\" final method to lemmatize using wordnet lemmatizer \"\"\"\n",
    "    \n",
    "    trbk_tag = pos_tag([token])[0][1]  # get the treebank tag from pos_tag method\n",
    "    wrdnt_tag = get_wordnet_tag(treebank_tag=trbk_tag)  # translate it to wordnet tag\n",
    "    return lemmatizer.lemmatize(token, wrdnt_tag)\n",
    "\n",
    "stop_words_ = stop_words.get_stop_words(\"en\")\n",
    "punctuation_filter = str.maketrans({key: None for key in string.punctuation})\n",
    "\n",
    "def nlp_pre_process(text, lemma=True, stem=False):\n",
    "    \"\"\"\n",
    "    Reduces an input text into a list of tokens, \n",
    "    using NLP filterings such as normalization, \n",
    "    PoS and stop word filtering, stemming.\n",
    "    text: (str)\n",
    "    tokens: list(str)\n",
    "    \"\"\"\n",
    "    text = text.lower()  # normalize\n",
    "    text = text.translate(punctuation_filter)  # remove punctuation\n",
    "    tokens = word_tokenize(text)  # tokenize\n",
    "    pos_tags = [pos_tag([t]) for t in tokens]  # PoS tagging\n",
    "    tokens = [token for [(token, tag)] in pos_tags if tag != \"DT\"]  # PoS filtering\n",
    "    tokens = [t for t in tokens if t not in stop_words_]  # stop words filtering\n",
    "    \n",
    "    if stem:\n",
    "        tokens = [stemmer.stem(t) for t in tokens]  # stemming\n",
    "    \n",
    "    if lemma:\n",
    "        tokens = [lemmatize(t) for t in tokens]  # lemmatizing\n",
    "    \n",
    "    return \" \".join(tokens)"
   ]
  }
 ],
 "metadata": {
  "anaconda-cloud": {},
  "kernelspec": {
   "display_name": "Python [conda env:ada]",
   "language": "python",
   "name": "conda-env-ada-py"
  },
  "language_info": {
   "codemirror_mode": {
    "name": "ipython",
    "version": 3
   },
   "file_extension": ".py",
   "mimetype": "text/x-python",
   "name": "python",
   "nbconvert_exporter": "python",
   "pygments_lexer": "ipython3",
   "version": "3.5.2"
  }
 },
 "nbformat": 4,
 "nbformat_minor": 2
}
