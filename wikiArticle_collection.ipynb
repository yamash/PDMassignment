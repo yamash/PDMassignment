{
 "cells": [
  {
   "cell_type": "markdown",
   "metadata": {},
   "source": [
    "# DATA COLLECTION"
   ]
  },
  {
   "cell_type": "markdown",
   "metadata": {},
   "source": [
    "## Import "
   ]
  },
  {
   "cell_type": "code",
   "execution_count": 1,
   "metadata": {
    "collapsed": false
   },
   "outputs": [],
   "source": [
    "import json\n",
    "import pandas as pd\n",
    "import random\n",
    "import numpy as np\n",
    "import wikipedia\n",
    "wikipedia.set_lang('en')\n",
    "wikipedia.set_rate_limiting(rate_limit=True)\n",
    "\n",
    "from tqdm import tqdm_notebook\n",
    "from time import sleep\n",
    "import re\n",
    "import warnings\n",
    "warnings.filterwarnings('ignore')"
   ]
  },
  {
   "cell_type": "markdown",
   "metadata": {},
   "source": [
    "### Wikipedia articles \n",
    "Wikipedia articles were downloaded using a web service called PetScan (https://en.wikipedia.org/wiki/Wikipedia:PetScan). The two categories chosen for this assignments are `Software Engineering` and `Sport`."
   ]
  },
  {
   "cell_type": "code",
   "execution_count": 2,
   "metadata": {
    "collapsed": false
   },
   "outputs": [],
   "source": [
    "softeng = pd.read_csv('./data/software_engineering_depth1.csv')\n",
    "sports = pd.read_csv('./data/sports_depth1.csv')"
   ]
  },
  {
   "cell_type": "markdown",
   "metadata": {},
   "source": [
    "## Selecting 1000 articles randomly\n",
    "Since PetScan service doesn't enable to choose the number of article (it basically shows all articles from chosen category), one selects randomly 1000 articles for the following exercises. "
   ]
  },
  {
   "cell_type": "code",
   "execution_count": 3,
   "metadata": {
    "collapsed": false
   },
   "outputs": [
    {
     "name": "stdout",
     "output_type": "stream",
     "text": [
      "1000\n",
      "1000\n"
     ]
    }
   ],
   "source": [
    "se_rdm_idx = random.sample(range(0, len(softeng)), 1000)\n",
    "sp_rdm_idx = random.sample(range(0,len(sports)), 1000)\n",
    "print(len(se_rdm_idx))\n",
    "print(len(sp_rdm_idx))"
   ]
  },
  {
   "cell_type": "code",
   "execution_count": 4,
   "metadata": {
    "collapsed": false
   },
   "outputs": [
    {
     "name": "stdout",
     "output_type": "stream",
     "text": [
      "(1000, 3)\n"
     ]
    }
   ],
   "source": [
    "se_1000 = softeng[softeng.index.isin(se_rdm_idx)]\n",
    "se_1000 = se_1000.drop(['number','namespace','touched'], axis=1)\n",
    "se_1000 = se_1000.reset_index(drop=True)\n",
    "print(se_1000.shape)"
   ]
  },
  {
   "cell_type": "code",
   "execution_count": 5,
   "metadata": {
    "collapsed": false
   },
   "outputs": [
    {
     "name": "stdout",
     "output_type": "stream",
     "text": [
      "(1000, 3)\n"
     ]
    }
   ],
   "source": [
    "sp_1000 = sports[sports.index.isin(sp_rdm_idx)]\n",
    "sp_1000 = sp_1000.drop(['namespace','touched','number'], axis=1)\n",
    "sp_1000 = sp_1000.reset_index(drop=True)\n",
    "print(sp_1000.shape)"
   ]
  },
  {
   "cell_type": "code",
   "execution_count": 66,
   "metadata": {
    "collapsed": true
   },
   "outputs": [],
   "source": [
    "def normalize_name(name):\n",
    "    '''\n",
    "    This function enables to normalize a string by removing parenthesis and underscore.\n",
    "    '''\n",
    "    name = re.sub('[()]', '', name) #remove parenthesis\n",
    "    name = re.sub('[_]', ' ', name) #remove underscore\n",
    "    name_norm = name.lower().strip()\n",
    "    return name_norm"
   ]
  },
  {
   "cell_type": "code",
   "execution_count": 7,
   "metadata": {
    "collapsed": false
   },
   "outputs": [],
   "source": [
    "sp_1000.title = sp_1000.title.apply(normalize_name)\n",
    "se_1000.title = se_1000.title.apply(normalize_name)"
   ]
  },
  {
   "cell_type": "markdown",
   "metadata": {},
   "source": [
    "## Retrieving content for each article"
   ]
  },
  {
   "cell_type": "markdown",
   "metadata": {},
   "source": [
    "### Category:Sports articles"
   ]
  },
  {
   "cell_type": "code",
   "execution_count": 45,
   "metadata": {
    "collapsed": false
   },
   "outputs": [
    {
     "name": "stdout",
     "output_type": "stream",
     "text": [
      "\r"
     ]
    },
    {
     "name": "stderr",
     "output_type": "stream",
     "text": [
      "Exception in thread Thread-5:\n",
      "Traceback (most recent call last):\n",
      "  File \"/Users/yuyamashita/anaconda/envs/ada/lib/python3.5/threading.py\", line 914, in _bootstrap_inner\n",
      "    self.run()\n",
      "  File \"/Users/yuyamashita/anaconda/envs/ada/lib/python3.5/site-packages/tqdm/_tqdm.py\", line 144, in run\n",
      "    for instance in self.tqdm_cls._instances:\n",
      "  File \"/Users/yuyamashita/anaconda/envs/ada/lib/python3.5/_weakrefset.py\", line 60, in __iter__\n",
      "    for itemref in self.data:\n",
      "RuntimeError: Set changed size during iteration\n",
      "\n",
      "/Users/yuyamashita/anaconda/envs/ada/lib/python3.5/site-packages/bs4/__init__.py:181: UserWarning: No parser was explicitly specified, so I'm using the best available HTML parser for this system (\"lxml\"). This usually isn't a problem, but if you run this code on another system, or in a different virtual environment, it may use a different parser and behave differently.\n",
      "\n",
      "The code that caused this warning is on line 184 of the file /Users/yuyamashita/anaconda/envs/ada/lib/python3.5/runpy.py. To get rid of this warning, change code that looks like this:\n",
      "\n",
      " BeautifulSoup([your markup])\n",
      "\n",
      "to this:\n",
      "\n",
      " BeautifulSoup([your markup], \"lxml\")\n",
      "\n",
      "  markup_type=markup_type))\n"
     ]
    },
    {
     "name": "stdout",
     "output_type": "stream",
     "text": [
      "\r"
     ]
    }
   ],
   "source": [
    "lst_contents = []\n",
    "for idx, row in tqdm_notebook(sp_1000.iterrows(), leave=False):\n",
    "    try:\n",
    "        pagewiki = wikipedia.page(title=row['title'])\n",
    "        content = pagewiki.content\n",
    "        \n",
    "    except wikipedia.exceptions.DisambiguationError as e:\n",
    "        wikipedia.page(e.options[0]).content\n",
    "    \n",
    "    except:\n",
    "        pagewiki = wikipedia.page(pageid=row['pageid'])\n",
    "        content = pagewiki.content\n",
    "    lst_contents.append(content)\n",
    "    sleep(0.01)"
   ]
  },
  {
   "cell_type": "code",
   "execution_count": 46,
   "metadata": {
    "collapsed": false
   },
   "outputs": [
    {
     "data": {
      "text/html": [
       "<div>\n",
       "<style>\n",
       "    .dataframe thead tr:only-child th {\n",
       "        text-align: right;\n",
       "    }\n",
       "\n",
       "    .dataframe thead th {\n",
       "        text-align: left;\n",
       "    }\n",
       "\n",
       "    .dataframe tbody tr th {\n",
       "        vertical-align: top;\n",
       "    }\n",
       "</style>\n",
       "<table border=\"1\" class=\"dataframe\">\n",
       "  <thead>\n",
       "    <tr style=\"text-align: right;\">\n",
       "      <th></th>\n",
       "      <th>title</th>\n",
       "      <th>pageid</th>\n",
       "      <th>length</th>\n",
       "      <th>content</th>\n",
       "    </tr>\n",
       "  </thead>\n",
       "  <tbody>\n",
       "    <tr>\n",
       "      <th>0</th>\n",
       "      <td>cycling</td>\n",
       "      <td>5931</td>\n",
       "      <td>54887</td>\n",
       "      <td>Cycling, also called bicycling or biking, is t...</td>\n",
       "    </tr>\n",
       "    <tr>\n",
       "      <th>1</th>\n",
       "      <td>cheerleading</td>\n",
       "      <td>6749</td>\n",
       "      <td>73813</td>\n",
       "      <td>Cheerleading ranges from chanting, to intense ...</td>\n",
       "    </tr>\n",
       "    <tr>\n",
       "      <th>2</th>\n",
       "      <td>lacrosse</td>\n",
       "      <td>18080</td>\n",
       "      <td>62729</td>\n",
       "      <td>Lacrosse is a team sport played between two te...</td>\n",
       "    </tr>\n",
       "    <tr>\n",
       "      <th>3</th>\n",
       "      <td>physical therapy</td>\n",
       "      <td>24022</td>\n",
       "      <td>60686</td>\n",
       "      <td>Physical therapy (PT), mostly known as Physiot...</td>\n",
       "    </tr>\n",
       "    <tr>\n",
       "      <th>4</th>\n",
       "      <td>shooting sports</td>\n",
       "      <td>28498</td>\n",
       "      <td>50932</td>\n",
       "      <td>Shooting sports is a collective group of compe...</td>\n",
       "    </tr>\n",
       "  </tbody>\n",
       "</table>\n",
       "</div>"
      ],
      "text/plain": [
       "              title  pageid  length  \\\n",
       "0           cycling    5931   54887   \n",
       "1      cheerleading    6749   73813   \n",
       "2          lacrosse   18080   62729   \n",
       "3  physical therapy   24022   60686   \n",
       "4   shooting sports   28498   50932   \n",
       "\n",
       "                                             content  \n",
       "0  Cycling, also called bicycling or biking, is t...  \n",
       "1  Cheerleading ranges from chanting, to intense ...  \n",
       "2  Lacrosse is a team sport played between two te...  \n",
       "3  Physical therapy (PT), mostly known as Physiot...  \n",
       "4  Shooting sports is a collective group of compe...  "
      ]
     },
     "execution_count": 46,
     "metadata": {},
     "output_type": "execute_result"
    }
   ],
   "source": [
    "sp_1000['content'] = lst_contents\n",
    "sp_1000.head()"
   ]
  },
  {
   "cell_type": "markdown",
   "metadata": {},
   "source": [
    "### Category:Software engineering articles"
   ]
  },
  {
   "cell_type": "code",
   "execution_count": 58,
   "metadata": {
    "collapsed": false
   },
   "outputs": [
    {
     "name": "stdout",
     "output_type": "stream",
     "text": [
      "\r"
     ]
    },
    {
     "name": "stderr",
     "output_type": "stream",
     "text": [
      "Exception in thread Thread-7:\n",
      "Traceback (most recent call last):\n",
      "  File \"/Users/yuyamashita/anaconda/envs/ada/lib/python3.5/threading.py\", line 914, in _bootstrap_inner\n",
      "    self.run()\n",
      "  File \"/Users/yuyamashita/anaconda/envs/ada/lib/python3.5/site-packages/tqdm/_tqdm.py\", line 144, in run\n",
      "    for instance in self.tqdm_cls._instances:\n",
      "  File \"/Users/yuyamashita/anaconda/envs/ada/lib/python3.5/_weakrefset.py\", line 60, in __iter__\n",
      "    for itemref in self.data:\n",
      "RuntimeError: Set changed size during iteration\n",
      "\n"
     ]
    },
    {
     "name": "stdout",
     "output_type": "stream",
     "text": [
      "\r"
     ]
    }
   ],
   "source": [
    "lst_contents = []\n",
    "for idx, row in tqdm_notebook(se_1000.iterrows(), leave=False):\n",
    "    try:\n",
    "        pagewiki = wikipedia.page(title=row['title'])\n",
    "        content = pagewiki.content\n",
    "        \n",
    "    except wikipedia.exceptions.DisambiguationError as e:\n",
    "        if \"Boro\" in e.options[0]:\n",
    "            pagewiki = wikipedia.page('boro method').content\n",
    "        else:\n",
    "            wikipedia.page(e.options[0]).content\n",
    "    \n",
    "    except:\n",
    "        pagewiki = wikipedia.page(pageid=row['pageid'])\n",
    "        content = pagewiki.content\n",
    "    lst_contents.append(content)\n",
    "    sleep(0.01)"
   ]
  },
  {
   "cell_type": "code",
   "execution_count": 59,
   "metadata": {
    "collapsed": true
   },
   "outputs": [],
   "source": [
    "se_1000['content'] = lst_contents"
   ]
  },
  {
   "cell_type": "code",
   "execution_count": 60,
   "metadata": {
    "collapsed": false
   },
   "outputs": [
    {
     "data": {
      "text/html": [
       "<div>\n",
       "<style>\n",
       "    .dataframe thead tr:only-child th {\n",
       "        text-align: right;\n",
       "    }\n",
       "\n",
       "    .dataframe thead th {\n",
       "        text-align: left;\n",
       "    }\n",
       "\n",
       "    .dataframe tbody tr th {\n",
       "        vertical-align: top;\n",
       "    }\n",
       "</style>\n",
       "<table border=\"1\" class=\"dataframe\">\n",
       "  <thead>\n",
       "    <tr style=\"text-align: right;\">\n",
       "      <th></th>\n",
       "      <th>title</th>\n",
       "      <th>pageid</th>\n",
       "      <th>length</th>\n",
       "      <th>content</th>\n",
       "    </tr>\n",
       "  </thead>\n",
       "  <tbody>\n",
       "    <tr>\n",
       "      <th>0</th>\n",
       "      <td>acceptance testing</td>\n",
       "      <td>3233</td>\n",
       "      <td>16735</td>\n",
       "      <td>In engineering and its various subdisciplines,...</td>\n",
       "    </tr>\n",
       "    <tr>\n",
       "      <th>1</th>\n",
       "      <td>computer programming</td>\n",
       "      <td>5311</td>\n",
       "      <td>21691</td>\n",
       "      <td>Computer programming (often shortened to progr...</td>\n",
       "    </tr>\n",
       "    <tr>\n",
       "      <th>2</th>\n",
       "      <td>computer program</td>\n",
       "      <td>5783</td>\n",
       "      <td>28740</td>\n",
       "      <td>A computer program is a collection of instruct...</td>\n",
       "    </tr>\n",
       "    <tr>\n",
       "      <th>3</th>\n",
       "      <td>context-free grammar</td>\n",
       "      <td>6759</td>\n",
       "      <td>39421</td>\n",
       "      <td>In formal language theory, a context-free gram...</td>\n",
       "    </tr>\n",
       "    <tr>\n",
       "      <th>4</th>\n",
       "      <td>code coverage</td>\n",
       "      <td>7030</td>\n",
       "      <td>16777</td>\n",
       "      <td>In computer science, code coverage is a measur...</td>\n",
       "    </tr>\n",
       "  </tbody>\n",
       "</table>\n",
       "</div>"
      ],
      "text/plain": [
       "                  title  pageid  length  \\\n",
       "0    acceptance testing    3233   16735   \n",
       "1  computer programming    5311   21691   \n",
       "2      computer program    5783   28740   \n",
       "3  context-free grammar    6759   39421   \n",
       "4         code coverage    7030   16777   \n",
       "\n",
       "                                             content  \n",
       "0  In engineering and its various subdisciplines,...  \n",
       "1  Computer programming (often shortened to progr...  \n",
       "2  A computer program is a collection of instruct...  \n",
       "3  In formal language theory, a context-free gram...  \n",
       "4  In computer science, code coverage is a measur...  "
      ]
     },
     "execution_count": 60,
     "metadata": {},
     "output_type": "execute_result"
    }
   ],
   "source": [
    "se_1000.head()"
   ]
  },
  {
   "cell_type": "markdown",
   "metadata": {},
   "source": [
    "## Export in csv"
   ]
  },
  {
   "cell_type": "code",
   "execution_count": 61,
   "metadata": {
    "collapsed": true
   },
   "outputs": [],
   "source": [
    "se_1000.to_csv('softeng1000.csv')\n",
    "sp_1000.to_csv('sports1000.csv')"
   ]
  }
 ],
 "metadata": {
  "anaconda-cloud": {},
  "kernelspec": {
   "display_name": "Python [conda env:ada]",
   "language": "python",
   "name": "conda-env-ada-py"
  },
  "language_info": {
   "codemirror_mode": {
    "name": "ipython",
    "version": 3
   },
   "file_extension": ".py",
   "mimetype": "text/x-python",
   "name": "python",
   "nbconvert_exporter": "python",
   "pygments_lexer": "ipython3",
   "version": "3.5.2"
  }
 },
 "nbformat": 4,
 "nbformat_minor": 2
}
